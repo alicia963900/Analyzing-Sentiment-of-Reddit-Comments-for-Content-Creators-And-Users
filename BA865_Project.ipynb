{
  "cells": [
    {
      "cell_type": "markdown",
      "metadata": {
        "id": "view-in-github",
        "colab_type": "text"
      },
      "source": [
        "<a href=\"https://colab.research.google.com/github/alicia963900/Analyzing-Sentiment-of-Reddit-Comments-for-Content-Creators-And-Users/blob/main/BA865_Project.ipynb\" target=\"_parent\"><img src=\"https://colab.research.google.com/assets/colab-badge.svg\" alt=\"Open In Colab\"/></a>"
      ]
    },
    {
      "cell_type": "markdown",
      "source": [
        "#**865 Project: Analyzing Sentiment of Reddit Comments for Content Creators And Users**"
      ],
      "metadata": {
        "id": "U4I2xr1nEqwg"
      },
      "id": "U4I2xr1nEqwg"
    },
    {
      "cell_type": "markdown",
      "source": [
        "# Names: \n",
        "\n",
        "*   Ta-Wei Wang / davidtww@bu.edu\n",
        "*   Ting-Hsuan Chen / aliciac@bu.edu\n",
        "*   Ting-Ann Lu / annlu@bu.edu\n",
        "*   Luke Hong / hongluke@bu.edu\n"
      ],
      "metadata": {
        "id": "GjEZt3XkGTuo"
      },
      "id": "GjEZt3XkGTuo"
    },
    {
      "cell_type": "markdown",
      "source": [
        "#*Data Source*\n",
        "GoEmotions Dataset: https://github.com/google-research/google-research/tree/master/goemotions"
      ],
      "metadata": {
        "id": "0oCrrWmMIuER"
      },
      "id": "0oCrrWmMIuER"
    },
    {
      "cell_type": "markdown",
      "source": [
        "# *Reference*\n",
        "Google AI Blog: https://ai.googleblog.com/2021/10/goemotions-dataset-for-fine-grained.html"
      ],
      "metadata": {
        "id": "ZrJiJPA0VGUJ"
      },
      "id": "ZrJiJPA0VGUJ"
    },
    {
      "cell_type": "markdown",
      "source": [
        "# Import Data and Data Overview"
      ],
      "metadata": {
        "id": "OBEVojfIqUaQ"
      },
      "id": "OBEVojfIqUaQ"
    },
    {
      "cell_type": "code",
      "source": [
        "!pip install transformers"
      ],
      "metadata": {
        "colab": {
          "base_uri": "https://localhost:8080/"
        },
        "id": "ro8KQb0MZQ2b",
        "outputId": "07d0c8b3-5d00-441f-c8dd-c82cd20a613d"
      },
      "id": "ro8KQb0MZQ2b",
      "execution_count": null,
      "outputs": [
        {
          "output_type": "stream",
          "name": "stdout",
          "text": [
            "Collecting transformers\n",
            "  Downloading transformers-4.17.0-py3-none-any.whl (3.8 MB)\n",
            "\u001b[K     |████████████████████████████████| 3.8 MB 13.9 MB/s \n",
            "\u001b[?25hRequirement already satisfied: packaging>=20.0 in /usr/local/lib/python3.7/dist-packages (from transformers) (21.3)\n",
            "Requirement already satisfied: regex!=2019.12.17 in /usr/local/lib/python3.7/dist-packages (from transformers) (2019.12.20)\n",
            "Requirement already satisfied: requests in /usr/local/lib/python3.7/dist-packages (from transformers) (2.23.0)\n",
            "Collecting sacremoses\n",
            "  Downloading sacremoses-0.0.49-py3-none-any.whl (895 kB)\n",
            "\u001b[K     |████████████████████████████████| 895 kB 3.8 MB/s \n",
            "\u001b[?25hRequirement already satisfied: importlib-metadata in /usr/local/lib/python3.7/dist-packages (from transformers) (4.11.2)\n",
            "Collecting huggingface-hub<1.0,>=0.1.0\n",
            "  Downloading huggingface_hub-0.4.0-py3-none-any.whl (67 kB)\n",
            "\u001b[K     |████████████████████████████████| 67 kB 5.1 MB/s \n",
            "\u001b[?25hRequirement already satisfied: filelock in /usr/local/lib/python3.7/dist-packages (from transformers) (3.6.0)\n",
            "Collecting tokenizers!=0.11.3,>=0.11.1\n",
            "  Downloading tokenizers-0.11.6-cp37-cp37m-manylinux_2_12_x86_64.manylinux2010_x86_64.whl (6.5 MB)\n",
            "\u001b[K     |████████████████████████████████| 6.5 MB 57.7 MB/s \n",
            "\u001b[?25hRequirement already satisfied: numpy>=1.17 in /usr/local/lib/python3.7/dist-packages (from transformers) (1.21.5)\n",
            "Requirement already satisfied: tqdm>=4.27 in /usr/local/lib/python3.7/dist-packages (from transformers) (4.63.0)\n",
            "Collecting pyyaml>=5.1\n",
            "  Downloading PyYAML-6.0-cp37-cp37m-manylinux_2_5_x86_64.manylinux1_x86_64.manylinux_2_12_x86_64.manylinux2010_x86_64.whl (596 kB)\n",
            "\u001b[K     |████████████████████████████████| 596 kB 61.7 MB/s \n",
            "\u001b[?25hRequirement already satisfied: typing-extensions>=3.7.4.3 in /usr/local/lib/python3.7/dist-packages (from huggingface-hub<1.0,>=0.1.0->transformers) (3.10.0.2)\n",
            "Requirement already satisfied: pyparsing!=3.0.5,>=2.0.2 in /usr/local/lib/python3.7/dist-packages (from packaging>=20.0->transformers) (3.0.7)\n",
            "Requirement already satisfied: zipp>=0.5 in /usr/local/lib/python3.7/dist-packages (from importlib-metadata->transformers) (3.7.0)\n",
            "Requirement already satisfied: certifi>=2017.4.17 in /usr/local/lib/python3.7/dist-packages (from requests->transformers) (2021.10.8)\n",
            "Requirement already satisfied: urllib3!=1.25.0,!=1.25.1,<1.26,>=1.21.1 in /usr/local/lib/python3.7/dist-packages (from requests->transformers) (1.24.3)\n",
            "Requirement already satisfied: chardet<4,>=3.0.2 in /usr/local/lib/python3.7/dist-packages (from requests->transformers) (3.0.4)\n",
            "Requirement already satisfied: idna<3,>=2.5 in /usr/local/lib/python3.7/dist-packages (from requests->transformers) (2.10)\n",
            "Requirement already satisfied: click in /usr/local/lib/python3.7/dist-packages (from sacremoses->transformers) (7.1.2)\n",
            "Requirement already satisfied: joblib in /usr/local/lib/python3.7/dist-packages (from sacremoses->transformers) (1.1.0)\n",
            "Requirement already satisfied: six in /usr/local/lib/python3.7/dist-packages (from sacremoses->transformers) (1.15.0)\n",
            "Installing collected packages: pyyaml, tokenizers, sacremoses, huggingface-hub, transformers\n",
            "  Attempting uninstall: pyyaml\n",
            "    Found existing installation: PyYAML 3.13\n",
            "    Uninstalling PyYAML-3.13:\n",
            "      Successfully uninstalled PyYAML-3.13\n",
            "Successfully installed huggingface-hub-0.4.0 pyyaml-6.0 sacremoses-0.0.49 tokenizers-0.11.6 transformers-4.17.0\n"
          ]
        }
      ]
    },
    {
      "cell_type": "code",
      "execution_count": null,
      "metadata": {
        "id": "eYHgVnmaZNAu"
      },
      "outputs": [],
      "source": [
        "# imports\n",
        "import numpy as np\n",
        "import pandas as pd\n",
        "from sklearn.model_selection import train_test_split\n",
        "from sklearn.linear_model import LogisticRegression\n",
        "from sklearn.model_selection import GridSearchCV\n",
        "from sklearn.model_selection import cross_val_score\n",
        "import torch\n",
        "import transformers as ppb\n",
        "import warnings\n",
        "from tensorflow import keras\n",
        "from tensorflow.keras.preprocessing.text import Tokenizer\n",
        "from tensorflow.keras.preprocessing.sequence import pad_sequences\n",
        "from tensorflow.keras.layers import Dense, Input, BatchNormalization, Flatten\n",
        "from tensorflow.keras.layers import Conv1D, MaxPooling1D, Embedding, GlobalAveragePooling1D\n",
        "\n",
        "from tensorflow.keras.models import Model\n",
        "from sklearn.model_selection import KFold, cross_val_score\n",
        "import re\n",
        "import string\n",
        "from transformers import DistilBertTokenizer, DistilBertForMultipleChoice\n",
        "import tensorflow as tf\n",
        "import matplotlib.pyplot as plt\n",
        "from statistics import mean\n",
        "warnings.filterwarnings('ignore')\n",
        "device = torch.device('cuda')"
      ],
      "id": "eYHgVnmaZNAu"
    },
    {
      "cell_type": "code",
      "execution_count": null,
      "id": "4d96d17b",
      "metadata": {
        "id": "4d96d17b"
      },
      "outputs": [],
      "source": [
        "# importing the dataset from a publicly accessible source\n",
        "df1 = pd.read_csv(\"https://raw.githubusercontent.com/David855008/BA865/main/data_cleaned.csv\")\n",
        "df = df1.sample(frac=1).copy()\n",
        "# delete the first column \"Unnamed: 0\"\n",
        "df = df[df['example_very_unclear']==0].drop([\"Unnamed: 0\"], axis = 1)"
      ]
    },
    {
      "cell_type": "code",
      "source": [
        "df.info()"
      ],
      "metadata": {
        "colab": {
          "base_uri": "https://localhost:8080/"
        },
        "id": "5nyvDFJscpOZ",
        "outputId": "9e0fe7fe-d8fb-449b-b17c-4c732ffa3845"
      },
      "id": "5nyvDFJscpOZ",
      "execution_count": null,
      "outputs": [
        {
          "output_type": "stream",
          "name": "stdout",
          "text": [
            "<class 'pandas.core.frame.DataFrame'>\n",
            "Int64Index: 55001 entries, 2956 to 22318\n",
            "Data columns (total 34 columns):\n",
            " #   Column                Non-Null Count  Dtype  \n",
            "---  ------                --------------  -----  \n",
            " 0   text                  55001 non-null  object \n",
            " 1   id                    55001 non-null  object \n",
            " 2   author                55001 non-null  object \n",
            " 3   subreddit             55001 non-null  object \n",
            " 4   created_utc           55001 non-null  float64\n",
            " 5   example_very_unclear  55001 non-null  int64  \n",
            " 6   admiration            55001 non-null  int64  \n",
            " 7   amusement             55001 non-null  int64  \n",
            " 8   anger                 55001 non-null  int64  \n",
            " 9   annoyance             55001 non-null  int64  \n",
            " 10  approval              55001 non-null  int64  \n",
            " 11  caring                55001 non-null  int64  \n",
            " 12  confusion             55001 non-null  int64  \n",
            " 13  curiosity             55001 non-null  int64  \n",
            " 14  desire                55001 non-null  int64  \n",
            " 15  disappointment        55001 non-null  int64  \n",
            " 16  disapproval           55001 non-null  int64  \n",
            " 17  disgust               55001 non-null  int64  \n",
            " 18  embarrassment         55001 non-null  int64  \n",
            " 19  excitement            55001 non-null  int64  \n",
            " 20  fear                  55001 non-null  int64  \n",
            " 21  gratitude             55001 non-null  int64  \n",
            " 22  grief                 55001 non-null  int64  \n",
            " 23  joy                   55001 non-null  int64  \n",
            " 24  love                  55001 non-null  int64  \n",
            " 25  nervousness           55001 non-null  int64  \n",
            " 26  optimism              55001 non-null  int64  \n",
            " 27  pride                 55001 non-null  int64  \n",
            " 28  realization           55001 non-null  int64  \n",
            " 29  relief                55001 non-null  int64  \n",
            " 30  remorse               55001 non-null  int64  \n",
            " 31  sadness               55001 non-null  int64  \n",
            " 32  surprise              55001 non-null  int64  \n",
            " 33  neutral               55001 non-null  int64  \n",
            "dtypes: float64(1), int64(29), object(4)\n",
            "memory usage: 14.7+ MB\n"
          ]
        }
      ]
    },
    {
      "cell_type": "code",
      "source": [
        "# distribution of each label (calculate the sum of 1)\n",
        "# we do have imbalanced data\n",
        "print(\"Sum of each label\")\n",
        "df[df.columns[5:]].sum().sort_values(ascending=False)"
      ],
      "metadata": {
        "colab": {
          "base_uri": "https://localhost:8080/"
        },
        "id": "opOFF_9H9sou",
        "outputId": "1f3971a3-53dd-45c6-9611-4bea15b89c09"
      },
      "execution_count": null,
      "outputs": [
        {
          "output_type": "stream",
          "name": "stdout",
          "text": [
            "Sum of each label\n"
          ]
        },
        {
          "output_type": "execute_result",
          "data": {
            "text/plain": [
              "neutral                 29669\n",
              "approval                12759\n",
              "admiration               9646\n",
              "annoyance                9509\n",
              "disapproval              7997\n",
              "realization              7001\n",
              "disappointment           6395\n",
              "optimism                 6005\n",
              "curiosity                5943\n",
              "joy                      5467\n",
              "anger                    5376\n",
              "gratitude                5179\n",
              "confusion                5051\n",
              "amusement                4958\n",
              "sadness                  4472\n",
              "love                     4235\n",
              "excitement               4189\n",
              "caring                   4184\n",
              "disgust                  3904\n",
              "surprise                 3613\n",
              "desire                   2752\n",
              "fear                     2070\n",
              "embarrassment            1936\n",
              "remorse                  1594\n",
              "nervousness              1511\n",
              "pride                    1096\n",
              "relief                   1051\n",
              "grief                     533\n",
              "example_very_unclear        0\n",
              "dtype: int64"
            ]
          },
          "metadata": {},
          "execution_count": 5
        }
      ],
      "id": "opOFF_9H9sou"
    },
    {
      "cell_type": "markdown",
      "source": [
        "#Pre Processing"
      ],
      "metadata": {
        "id": "3FFjZ-1yJv8s"
      },
      "id": "3FFjZ-1yJv8s"
    },
    {
      "cell_type": "code",
      "execution_count": null,
      "id": "c0033490",
      "metadata": {
        "id": "c0033490"
      },
      "outputs": [],
      "source": [
        "# text mapping to clean text data\n",
        "contraction_mapping = {\"ain't\": \"is not\", \"aren't\": \"are not\",\"can't\": \"cannot\", \"'cause\": \"because\", \"could've\": \"could have\", \"couldn't\": \"could not\", \n",
        "                       \"didn't\": \"did not\",  \"doesn't\": \"does not\", \"don't\": \"do not\", \"hadn't\": \"had not\", \"hasn't\": \"has not\", \"haven't\": \"have not\", \n",
        "                       \"he'd\": \"he would\",\"he'll\": \"he will\", \"he's\": \"he is\", \"how'd\": \"how did\", \"how'd'y\": \"how do you\", \"how'll\": \"how will\", \n",
        "                       \"how's\": \"how is\",  \"I'd\": \"I would\", \"I'd've\": \"I would have\", \"I'll\": \"I will\", \"I'll've\": \"I will have\",\"I'm\": \"I am\",\n",
        "                       \"I've\": \"I have\", \"i'd\": \"i would\", \"i'd've\": \"i would have\", \"i'll\": \"i will\",  \"i'll've\": \"i will have\",\"i'm\": \"i am\", \n",
        "                       \"i've\": \"i have\", \"isn't\": \"is not\", \"it'd\": \"it would\", \"it'd've\": \"it would have\", \"it'll\": \"it will\", \"it'll've\": \"it will have\",\n",
        "                       \"it's\": \"it is\", \"let's\": \"let us\", \"ma'am\": \"madam\", \"mayn't\": \"may not\", \"might've\": \"might have\",\"mightn't\": \"might not\",\n",
        "                       \"mightn't've\": \"might not have\", \"must've\": \"must have\", \"mustn't\": \"must not\", \"mustn't've\": \"must not have\", \"needn't\": \"need not\", \n",
        "                       \"needn't've\": \"need not have\",\"o'clock\": \"of the clock\", \"oughtn't\": \"ought not\", \"oughtn't've\": \"ought not have\", \"shan't\": \"shall not\",\n",
        "                       \"sha'n't\": \"shall not\", \"shan't've\": \"shall not have\", \"she'd\": \"she would\", \"she'd've\": \"she would have\", \"she'll\": \"she will\", \n",
        "                       \"she'll've\": \"she will have\", \"she's\": \"she is\", \"should've\": \"should have\", \"shouldn't\": \"should not\", \"shouldn't've\": \"should not have\",\n",
        "                       \"so've\": \"so have\",\"so's\": \"so as\", \"this's\": \"this is\",\"that'd\": \"that would\", \"that'd've\": \"that would have\", \"that's\": \"that is\",\n",
        "                       \"there'd\": \"there would\", \"there'd've\": \"there would have\", \"there's\": \"there is\", \"here's\": \"here is\",\"they'd\": \"they would\",\n",
        "                       \"they'd've\": \"they would have\", \"they'll\": \"they will\", \"they'll've\": \"they will have\", \"they're\": \"they are\", \"they've\": \"they have\",\n",
        "                       \"to've\": \"to have\", \"wasn't\": \"was not\", \"we'd\": \"we would\", \"we'd've\": \"we would have\", \"we'll\": \"we will\", \"we'll've\": \"we will have\",\n",
        "                       \"we're\": \"we are\", \"we've\": \"we have\", \"weren't\": \"were not\", \"what'll\": \"what will\", \"what'll've\": \"what will have\", \n",
        "                       \"what're\": \"what are\",  \"what's\": \"what is\", \"what've\": \"what have\", \"when's\": \"when is\", \"when've\": \"when have\", \"where'd\": \"where did\",\n",
        "                       \"where's\": \"where is\", \"where've\": \"where have\", \"who'll\": \"who will\", \"who'll've\": \"who will have\", \"who's\": \"who is\", \n",
        "                       \"who've\": \"who have\", \"why's\": \"why is\", \"why've\": \"why have\", \"will've\": \"will have\", \"won't\": \"will not\", \"won't've\": \"will not have\", \n",
        "                       \"would've\": \"would have\", \"wouldn't\": \"would not\", \"wouldn't've\": \"would not have\", \"y'all\": \"you all\", \"y'all'd\": \"you all would\",\n",
        "                       \"y'all'd've\": \"you all would have\",\"y'all're\": \"you all are\",\"y'all've\": \"you all have\",\"you'd\": \"you would\", \"you'd've\": \"you would have\",\n",
        "                       \"you'll\": \"you will\", \"you'll've\": \"you will have\", \"you're\": \"you are\", \"you've\": \"you have\", 'u.s':'america', 'e.g':'for example'}\n",
        "\n",
        "punct = [',', '.', '\"', ':', ')', '(', '-', '!', '?', '|', ';', \"'\", '$', '&', '/', '[', ']', '>', '%', '=', '#', '*', '+', '\\\\', '•',  '~', '@', '£', \n",
        " '·', '_', '{', '}', '©', '^', '®', '`',  '<', '→', '°', '€', '™', '›',  '♥', '←', '×', '§', '″', '′', 'Â', '█', '½', 'à', '…', \n",
        " '“', '★', '”', '–', '●', 'â', '►', '−', '¢', '²', '¬', '░', '¶', '↑', '±', '¿', '▾', '═', '¦', '║', '―', '¥', '▓', '—', '‹', '─', \n",
        " '▒', '：', '¼', '⊕', '▼', '▪', '†', '■', '’', '▀', '¨', '▄', '♫', '☆', 'é', '¯', '♦', '¤', '▲', 'è', '¸', '¾', 'Ã', '⋅', '‘', '∞', \n",
        " '∙', '）', '↓', '、', '│', '（', '»', '，', '♪', '╩', '╚', '³', '・', '╦', '╣', '╔', '╗', '▬', '❤', 'ï', 'Ø', '¹', '≤', '‡', '√', ]\n",
        "\n",
        "punct_mapping = {\"‘\": \"'\", \"₹\": \"e\", \"´\": \"'\", \"°\": \"\", \"€\": \"e\", \"™\": \"tm\", \"√\": \" sqrt \", \"×\": \"x\", \"²\": \"2\", \"—\": \"-\", \"–\": \"-\", \"’\": \"'\", \"_\": \"-\",\n",
        "                 \"`\": \"'\", '“': '\"', '”': '\"', '“': '\"', \"£\": \"e\", '∞': 'infinity', 'θ': 'theta', '÷': '/', 'α': 'alpha', '•': '.', 'à': 'a', '−': '-', \n",
        "                 'β': 'beta', '∅': '', '³': '3', 'π': 'pi', '!':' '}\n",
        "\n",
        "mispell_dict = {'colour': 'color', 'centre': 'center', 'favourite': 'favorite', 'travelling': 'traveling', 'counselling': 'counseling', 'theatre': 'theater',\n",
        "                'cancelled': 'canceled', 'labour': 'labor', 'organisation': 'organization', 'wwii': 'world war 2', 'citicise': 'criticize', 'youtu ': 'youtube ',\n",
        "                'Qoura': 'Quora', 'sallary': 'salary', 'Whta': 'What', 'narcisist': 'narcissist', 'howdo': 'how do', 'whatare': 'what are', 'howcan': 'how can',\n",
        "                'howmuch': 'how much', 'howmany': 'how many', 'whydo': 'why do', 'doI': 'do I', 'theBest': 'the best', 'howdoes': 'how does', \n",
        "                'mastrubation': 'masturbation', 'mastrubate': 'masturbate', \"mastrubating\": 'masturbating', 'pennis': 'penis', 'Etherium': 'Ethereum', \n",
        "                'narcissit': 'narcissist', 'bigdata': 'big data', '2k17': '2017', '2k18': '2018', 'qouta': 'quota', 'exboyfriend': 'ex boyfriend', \n",
        "                'airhostess': 'air hostess', \"whst\": 'what', 'watsapp': 'whatsapp', 'demonitisation': 'demonetization', 'demonitization': 'demonetization',\n",
        "                'demonetisation': 'demonetization'}"
      ]
    },
    {
      "cell_type": "code",
      "execution_count": null,
      "id": "eb1a9435",
      "metadata": {
        "id": "eb1a9435"
      },
      "outputs": [],
      "source": [
        "# data cleaning functions for text\n",
        "\n",
        "def clean_text(text):\n",
        "    # making text lowercase\n",
        "    text = str(text).lower()\n",
        "    text = re.sub('\\[.*?\\]', '', text)\n",
        "    \n",
        "    # remove punctuation\n",
        "    text = re.sub('<.*?>+', '', text)\n",
        "    text = re.sub('\\n', '', text)\n",
        "    text = re.sub('\\w*\\d\\w*', '', text)\n",
        "    \n",
        "    # remove words containing numbers\n",
        "    text = re.sub(r\"[^a-zA-Z?.!,¿']+\", \" \", text)\n",
        "    return text\n",
        "\n",
        "def clean_contractions(text, mapping):\n",
        "    # clean contraction using contraction mapping\n",
        "    specials = [\"’\", \"‘\", \"´\", \"`\"]\n",
        "    for s in specials:\n",
        "        text = text.replace(s, \"'\")\n",
        "    for word in mapping.keys():\n",
        "        if \"\"+word+\"\" in text:\n",
        "            text = text.replace(\"\"+word+\"\", \"\"+mapping[word]+\"\")\n",
        "    \n",
        "    # remove Punctuations\n",
        "    text = re.sub('[%s]' % re.escape(string.punctuation), '', text)\n",
        "    \n",
        "    # creating a space between a word and the punctuation following it\n",
        "    # ex: \"he is a boy.\" => \"he is a boy .\"\n",
        "    text = re.sub(r\"([?.!,¿])\", r\" \\1 \", text)\n",
        "    text = re.sub(r'[\" \"]+', \" \", text)\n",
        "    return text\n",
        "\n",
        "def clean_special_chars(text, punct, mapping):\n",
        "    # cleans special characters present(if any)\n",
        "    for p in mapping:\n",
        "        text = text.replace(p, mapping[p])\n",
        "    \n",
        "    for p in punct:\n",
        "        text = text.replace(p, f' {p} ')\n",
        "    \n",
        "    specials = {'\\u200b': ' ', '…': ' ... ', '\\ufeff': '', 'करना': '', 'है': ''}  \n",
        "    for s in specials:\n",
        "        text = text.replace(s, specials[s])\n",
        "    \n",
        "    return text\n",
        "\n",
        "def correct_spelling(x, dic):\n",
        "    # corrects common spelling errors\n",
        "    for word in dic.keys():\n",
        "        x = x.replace(word, dic[word])\n",
        "    return x\n",
        "\n",
        "def remove_space(text):\n",
        "    # removes awkward spaces \n",
        "    text = text.strip()\n",
        "    text = text.split()\n",
        "    return \" \".join(text)\n",
        "\n",
        "def text_preprocessing_pipeline(text):\n",
        "    # cleaning and parsing the text\n",
        "    text = clean_text(text)\n",
        "    text = clean_contractions(text, contraction_mapping)\n",
        "    text = clean_special_chars(text, punct, punct_mapping)\n",
        "    text = correct_spelling(text, mispell_dict)\n",
        "    text = remove_space(text)\n",
        "    return text\n",
        "\n",
        "# apply the text in preprocessing pipeline\n",
        "df['text'] = df['text'].apply(text_preprocessing_pipeline)"
      ]
    },
    {
      "cell_type": "code",
      "execution_count": null,
      "id": "a36d5c5a",
      "metadata": {
        "id": "a36d5c5a"
      },
      "outputs": [],
      "source": [
        "texts = df['text'].values\n",
        "labels = df.iloc[:, -28:]"
      ]
    },
    {
      "cell_type": "code",
      "source": [
        "# We have 28 labels in total\n",
        "labels"
      ],
      "metadata": {
        "colab": {
          "base_uri": "https://localhost:8080/",
          "height": 423
        },
        "id": "NVNnYCdMNMxU",
        "outputId": "d8437714-a8bc-476d-8676-73119ba3bdc4"
      },
      "id": "NVNnYCdMNMxU",
      "execution_count": null,
      "outputs": [
        {
          "output_type": "execute_result",
          "data": {
            "text/plain": [
              "       admiration  amusement  anger  annoyance  approval  caring  confusion  \\\n",
              "2956            0          1      0          0         0       0          0   \n",
              "42722           0          0      0          0         0       0          0   \n",
              "14091           1          0      0          0         0       0          1   \n",
              "11480           0          0      1          1         0       0          0   \n",
              "49481           0          0      0          0         1       1          0   \n",
              "...           ...        ...    ...        ...       ...     ...        ...   \n",
              "43795           1          0      0          1         1       0          0   \n",
              "6583            1          0      0          0         1       0          0   \n",
              "44903           0          0      0          0         1       0          0   \n",
              "53747           1          0      0          0         0       0          0   \n",
              "22318           0          0      0          0         0       0          0   \n",
              "\n",
              "       curiosity  desire  disappointment  ...  love  nervousness  optimism  \\\n",
              "2956           0       0               1  ...     0            0         0   \n",
              "42722          0       0               0  ...     0            0         1   \n",
              "14091          0       0               0  ...     0            0         0   \n",
              "11480          0       0               0  ...     0            0         0   \n",
              "49481          0       1               0  ...     0            0         1   \n",
              "...          ...     ...             ...  ...   ...          ...       ...   \n",
              "43795          1       0               0  ...     0            0         0   \n",
              "6583           0       1               0  ...     0            0         0   \n",
              "44903          0       0               0  ...     0            0         0   \n",
              "53747          0       0               1  ...     1            0         0   \n",
              "22318          0       0               0  ...     1            0         1   \n",
              "\n",
              "       pride  realization  relief  remorse  sadness  surprise  neutral  \n",
              "2956       0            0       0        0        0         0        0  \n",
              "42722      0            0       0        0        0         0        1  \n",
              "14091      0            1       0        0        0         0        0  \n",
              "11480      0            0       0        0        0         0        1  \n",
              "49481      0            0       0        0        0         0        0  \n",
              "...      ...          ...     ...      ...      ...       ...      ...  \n",
              "43795      0            0       0        0        0         0        0  \n",
              "6583       0            0       0        0        0         0        0  \n",
              "44903      0            0       0        0        0         0        1  \n",
              "53747      0            0       0        0        0         0        0  \n",
              "22318      0            0       0        0        0         0        0  \n",
              "\n",
              "[55001 rows x 28 columns]"
            ],
            "text/html": [
              "\n",
              "  <div id=\"df-3b41f310-689c-4a2b-ad90-b5a6dd6ce7de\">\n",
              "    <div class=\"colab-df-container\">\n",
              "      <div>\n",
              "<style scoped>\n",
              "    .dataframe tbody tr th:only-of-type {\n",
              "        vertical-align: middle;\n",
              "    }\n",
              "\n",
              "    .dataframe tbody tr th {\n",
              "        vertical-align: top;\n",
              "    }\n",
              "\n",
              "    .dataframe thead th {\n",
              "        text-align: right;\n",
              "    }\n",
              "</style>\n",
              "<table border=\"1\" class=\"dataframe\">\n",
              "  <thead>\n",
              "    <tr style=\"text-align: right;\">\n",
              "      <th></th>\n",
              "      <th>admiration</th>\n",
              "      <th>amusement</th>\n",
              "      <th>anger</th>\n",
              "      <th>annoyance</th>\n",
              "      <th>approval</th>\n",
              "      <th>caring</th>\n",
              "      <th>confusion</th>\n",
              "      <th>curiosity</th>\n",
              "      <th>desire</th>\n",
              "      <th>disappointment</th>\n",
              "      <th>...</th>\n",
              "      <th>love</th>\n",
              "      <th>nervousness</th>\n",
              "      <th>optimism</th>\n",
              "      <th>pride</th>\n",
              "      <th>realization</th>\n",
              "      <th>relief</th>\n",
              "      <th>remorse</th>\n",
              "      <th>sadness</th>\n",
              "      <th>surprise</th>\n",
              "      <th>neutral</th>\n",
              "    </tr>\n",
              "  </thead>\n",
              "  <tbody>\n",
              "    <tr>\n",
              "      <th>2956</th>\n",
              "      <td>0</td>\n",
              "      <td>1</td>\n",
              "      <td>0</td>\n",
              "      <td>0</td>\n",
              "      <td>0</td>\n",
              "      <td>0</td>\n",
              "      <td>0</td>\n",
              "      <td>0</td>\n",
              "      <td>0</td>\n",
              "      <td>1</td>\n",
              "      <td>...</td>\n",
              "      <td>0</td>\n",
              "      <td>0</td>\n",
              "      <td>0</td>\n",
              "      <td>0</td>\n",
              "      <td>0</td>\n",
              "      <td>0</td>\n",
              "      <td>0</td>\n",
              "      <td>0</td>\n",
              "      <td>0</td>\n",
              "      <td>0</td>\n",
              "    </tr>\n",
              "    <tr>\n",
              "      <th>42722</th>\n",
              "      <td>0</td>\n",
              "      <td>0</td>\n",
              "      <td>0</td>\n",
              "      <td>0</td>\n",
              "      <td>0</td>\n",
              "      <td>0</td>\n",
              "      <td>0</td>\n",
              "      <td>0</td>\n",
              "      <td>0</td>\n",
              "      <td>0</td>\n",
              "      <td>...</td>\n",
              "      <td>0</td>\n",
              "      <td>0</td>\n",
              "      <td>1</td>\n",
              "      <td>0</td>\n",
              "      <td>0</td>\n",
              "      <td>0</td>\n",
              "      <td>0</td>\n",
              "      <td>0</td>\n",
              "      <td>0</td>\n",
              "      <td>1</td>\n",
              "    </tr>\n",
              "    <tr>\n",
              "      <th>14091</th>\n",
              "      <td>1</td>\n",
              "      <td>0</td>\n",
              "      <td>0</td>\n",
              "      <td>0</td>\n",
              "      <td>0</td>\n",
              "      <td>0</td>\n",
              "      <td>1</td>\n",
              "      <td>0</td>\n",
              "      <td>0</td>\n",
              "      <td>0</td>\n",
              "      <td>...</td>\n",
              "      <td>0</td>\n",
              "      <td>0</td>\n",
              "      <td>0</td>\n",
              "      <td>0</td>\n",
              "      <td>1</td>\n",
              "      <td>0</td>\n",
              "      <td>0</td>\n",
              "      <td>0</td>\n",
              "      <td>0</td>\n",
              "      <td>0</td>\n",
              "    </tr>\n",
              "    <tr>\n",
              "      <th>11480</th>\n",
              "      <td>0</td>\n",
              "      <td>0</td>\n",
              "      <td>1</td>\n",
              "      <td>1</td>\n",
              "      <td>0</td>\n",
              "      <td>0</td>\n",
              "      <td>0</td>\n",
              "      <td>0</td>\n",
              "      <td>0</td>\n",
              "      <td>0</td>\n",
              "      <td>...</td>\n",
              "      <td>0</td>\n",
              "      <td>0</td>\n",
              "      <td>0</td>\n",
              "      <td>0</td>\n",
              "      <td>0</td>\n",
              "      <td>0</td>\n",
              "      <td>0</td>\n",
              "      <td>0</td>\n",
              "      <td>0</td>\n",
              "      <td>1</td>\n",
              "    </tr>\n",
              "    <tr>\n",
              "      <th>49481</th>\n",
              "      <td>0</td>\n",
              "      <td>0</td>\n",
              "      <td>0</td>\n",
              "      <td>0</td>\n",
              "      <td>1</td>\n",
              "      <td>1</td>\n",
              "      <td>0</td>\n",
              "      <td>0</td>\n",
              "      <td>1</td>\n",
              "      <td>0</td>\n",
              "      <td>...</td>\n",
              "      <td>0</td>\n",
              "      <td>0</td>\n",
              "      <td>1</td>\n",
              "      <td>0</td>\n",
              "      <td>0</td>\n",
              "      <td>0</td>\n",
              "      <td>0</td>\n",
              "      <td>0</td>\n",
              "      <td>0</td>\n",
              "      <td>0</td>\n",
              "    </tr>\n",
              "    <tr>\n",
              "      <th>...</th>\n",
              "      <td>...</td>\n",
              "      <td>...</td>\n",
              "      <td>...</td>\n",
              "      <td>...</td>\n",
              "      <td>...</td>\n",
              "      <td>...</td>\n",
              "      <td>...</td>\n",
              "      <td>...</td>\n",
              "      <td>...</td>\n",
              "      <td>...</td>\n",
              "      <td>...</td>\n",
              "      <td>...</td>\n",
              "      <td>...</td>\n",
              "      <td>...</td>\n",
              "      <td>...</td>\n",
              "      <td>...</td>\n",
              "      <td>...</td>\n",
              "      <td>...</td>\n",
              "      <td>...</td>\n",
              "      <td>...</td>\n",
              "      <td>...</td>\n",
              "    </tr>\n",
              "    <tr>\n",
              "      <th>43795</th>\n",
              "      <td>1</td>\n",
              "      <td>0</td>\n",
              "      <td>0</td>\n",
              "      <td>1</td>\n",
              "      <td>1</td>\n",
              "      <td>0</td>\n",
              "      <td>0</td>\n",
              "      <td>1</td>\n",
              "      <td>0</td>\n",
              "      <td>0</td>\n",
              "      <td>...</td>\n",
              "      <td>0</td>\n",
              "      <td>0</td>\n",
              "      <td>0</td>\n",
              "      <td>0</td>\n",
              "      <td>0</td>\n",
              "      <td>0</td>\n",
              "      <td>0</td>\n",
              "      <td>0</td>\n",
              "      <td>0</td>\n",
              "      <td>0</td>\n",
              "    </tr>\n",
              "    <tr>\n",
              "      <th>6583</th>\n",
              "      <td>1</td>\n",
              "      <td>0</td>\n",
              "      <td>0</td>\n",
              "      <td>0</td>\n",
              "      <td>1</td>\n",
              "      <td>0</td>\n",
              "      <td>0</td>\n",
              "      <td>0</td>\n",
              "      <td>1</td>\n",
              "      <td>0</td>\n",
              "      <td>...</td>\n",
              "      <td>0</td>\n",
              "      <td>0</td>\n",
              "      <td>0</td>\n",
              "      <td>0</td>\n",
              "      <td>0</td>\n",
              "      <td>0</td>\n",
              "      <td>0</td>\n",
              "      <td>0</td>\n",
              "      <td>0</td>\n",
              "      <td>0</td>\n",
              "    </tr>\n",
              "    <tr>\n",
              "      <th>44903</th>\n",
              "      <td>0</td>\n",
              "      <td>0</td>\n",
              "      <td>0</td>\n",
              "      <td>0</td>\n",
              "      <td>1</td>\n",
              "      <td>0</td>\n",
              "      <td>0</td>\n",
              "      <td>0</td>\n",
              "      <td>0</td>\n",
              "      <td>0</td>\n",
              "      <td>...</td>\n",
              "      <td>0</td>\n",
              "      <td>0</td>\n",
              "      <td>0</td>\n",
              "      <td>0</td>\n",
              "      <td>0</td>\n",
              "      <td>0</td>\n",
              "      <td>0</td>\n",
              "      <td>0</td>\n",
              "      <td>0</td>\n",
              "      <td>1</td>\n",
              "    </tr>\n",
              "    <tr>\n",
              "      <th>53747</th>\n",
              "      <td>1</td>\n",
              "      <td>0</td>\n",
              "      <td>0</td>\n",
              "      <td>0</td>\n",
              "      <td>0</td>\n",
              "      <td>0</td>\n",
              "      <td>0</td>\n",
              "      <td>0</td>\n",
              "      <td>0</td>\n",
              "      <td>1</td>\n",
              "      <td>...</td>\n",
              "      <td>1</td>\n",
              "      <td>0</td>\n",
              "      <td>0</td>\n",
              "      <td>0</td>\n",
              "      <td>0</td>\n",
              "      <td>0</td>\n",
              "      <td>0</td>\n",
              "      <td>0</td>\n",
              "      <td>0</td>\n",
              "      <td>0</td>\n",
              "    </tr>\n",
              "    <tr>\n",
              "      <th>22318</th>\n",
              "      <td>0</td>\n",
              "      <td>0</td>\n",
              "      <td>0</td>\n",
              "      <td>0</td>\n",
              "      <td>0</td>\n",
              "      <td>0</td>\n",
              "      <td>0</td>\n",
              "      <td>0</td>\n",
              "      <td>0</td>\n",
              "      <td>0</td>\n",
              "      <td>...</td>\n",
              "      <td>1</td>\n",
              "      <td>0</td>\n",
              "      <td>1</td>\n",
              "      <td>0</td>\n",
              "      <td>0</td>\n",
              "      <td>0</td>\n",
              "      <td>0</td>\n",
              "      <td>0</td>\n",
              "      <td>0</td>\n",
              "      <td>0</td>\n",
              "    </tr>\n",
              "  </tbody>\n",
              "</table>\n",
              "<p>55001 rows × 28 columns</p>\n",
              "</div>\n",
              "      <button class=\"colab-df-convert\" onclick=\"convertToInteractive('df-3b41f310-689c-4a2b-ad90-b5a6dd6ce7de')\"\n",
              "              title=\"Convert this dataframe to an interactive table.\"\n",
              "              style=\"display:none;\">\n",
              "        \n",
              "  <svg xmlns=\"http://www.w3.org/2000/svg\" height=\"24px\"viewBox=\"0 0 24 24\"\n",
              "       width=\"24px\">\n",
              "    <path d=\"M0 0h24v24H0V0z\" fill=\"none\"/>\n",
              "    <path d=\"M18.56 5.44l.94 2.06.94-2.06 2.06-.94-2.06-.94-.94-2.06-.94 2.06-2.06.94zm-11 1L8.5 8.5l.94-2.06 2.06-.94-2.06-.94L8.5 2.5l-.94 2.06-2.06.94zm10 10l.94 2.06.94-2.06 2.06-.94-2.06-.94-.94-2.06-.94 2.06-2.06.94z\"/><path d=\"M17.41 7.96l-1.37-1.37c-.4-.4-.92-.59-1.43-.59-.52 0-1.04.2-1.43.59L10.3 9.45l-7.72 7.72c-.78.78-.78 2.05 0 2.83L4 21.41c.39.39.9.59 1.41.59.51 0 1.02-.2 1.41-.59l7.78-7.78 2.81-2.81c.8-.78.8-2.07 0-2.86zM5.41 20L4 18.59l7.72-7.72 1.47 1.35L5.41 20z\"/>\n",
              "  </svg>\n",
              "      </button>\n",
              "      \n",
              "  <style>\n",
              "    .colab-df-container {\n",
              "      display:flex;\n",
              "      flex-wrap:wrap;\n",
              "      gap: 12px;\n",
              "    }\n",
              "\n",
              "    .colab-df-convert {\n",
              "      background-color: #E8F0FE;\n",
              "      border: none;\n",
              "      border-radius: 50%;\n",
              "      cursor: pointer;\n",
              "      display: none;\n",
              "      fill: #1967D2;\n",
              "      height: 32px;\n",
              "      padding: 0 0 0 0;\n",
              "      width: 32px;\n",
              "    }\n",
              "\n",
              "    .colab-df-convert:hover {\n",
              "      background-color: #E2EBFA;\n",
              "      box-shadow: 0px 1px 2px rgba(60, 64, 67, 0.3), 0px 1px 3px 1px rgba(60, 64, 67, 0.15);\n",
              "      fill: #174EA6;\n",
              "    }\n",
              "\n",
              "    [theme=dark] .colab-df-convert {\n",
              "      background-color: #3B4455;\n",
              "      fill: #D2E3FC;\n",
              "    }\n",
              "\n",
              "    [theme=dark] .colab-df-convert:hover {\n",
              "      background-color: #434B5C;\n",
              "      box-shadow: 0px 1px 3px 1px rgba(0, 0, 0, 0.15);\n",
              "      filter: drop-shadow(0px 1px 2px rgba(0, 0, 0, 0.3));\n",
              "      fill: #FFFFFF;\n",
              "    }\n",
              "  </style>\n",
              "\n",
              "      <script>\n",
              "        const buttonEl =\n",
              "          document.querySelector('#df-3b41f310-689c-4a2b-ad90-b5a6dd6ce7de button.colab-df-convert');\n",
              "        buttonEl.style.display =\n",
              "          google.colab.kernel.accessAllowed ? 'block' : 'none';\n",
              "\n",
              "        async function convertToInteractive(key) {\n",
              "          const element = document.querySelector('#df-3b41f310-689c-4a2b-ad90-b5a6dd6ce7de');\n",
              "          const dataTable =\n",
              "            await google.colab.kernel.invokeFunction('convertToInteractive',\n",
              "                                                     [key], {});\n",
              "          if (!dataTable) return;\n",
              "\n",
              "          const docLinkHtml = 'Like what you see? Visit the ' +\n",
              "            '<a target=\"_blank\" href=https://colab.research.google.com/notebooks/data_table.ipynb>data table notebook</a>'\n",
              "            + ' to learn more about interactive tables.';\n",
              "          element.innerHTML = '';\n",
              "          dataTable['output_type'] = 'display_data';\n",
              "          await google.colab.output.renderOutput(dataTable, element);\n",
              "          const docLink = document.createElement('div');\n",
              "          docLink.innerHTML = docLinkHtml;\n",
              "          element.appendChild(docLink);\n",
              "        }\n",
              "      </script>\n",
              "    </div>\n",
              "  </div>\n",
              "  "
            ]
          },
          "metadata": {},
          "execution_count": 9
        }
      ]
    },
    {
      "cell_type": "code",
      "source": [
        "len(texts)"
      ],
      "metadata": {
        "colab": {
          "base_uri": "https://localhost:8080/"
        },
        "id": "Th9LOWCRNOy3",
        "outputId": "c98911f8-6ad9-45e3-9124-768937c0e46a"
      },
      "id": "Th9LOWCRNOy3",
      "execution_count": null,
      "outputs": [
        {
          "output_type": "execute_result",
          "data": {
            "text/plain": [
              "55001"
            ]
          },
          "metadata": {},
          "execution_count": 10
        }
      ]
    },
    {
      "cell_type": "markdown",
      "source": [
        "# **GLOVE MODEL**"
      ],
      "metadata": {
        "id": "QCbWJwXdMr6X"
      },
      "id": "QCbWJwXdMr6X"
    },
    {
      "cell_type": "markdown",
      "source": [
        "## Word embedding and tokenization\n",
        "\n",
        "* Word embedding: GloVe: https://nlp.stanford.edu/projects/glove/"
      ],
      "metadata": {
        "id": "20Mp4Zy2OEHl"
      },
      "id": "20Mp4Zy2OEHl"
    },
    {
      "cell_type": "code",
      "source": [
        "!wget http://nlp.stanford.edu/data/glove.6B.zip"
      ],
      "metadata": {
        "colab": {
          "base_uri": "https://localhost:8080/"
        },
        "id": "TbdfVSMvPU-K",
        "outputId": "3e765c4e-bb0c-4ae7-ecec-d06fa0e42194"
      },
      "id": "TbdfVSMvPU-K",
      "execution_count": null,
      "outputs": [
        {
          "output_type": "stream",
          "name": "stdout",
          "text": [
            "--2022-03-20 18:28:38--  http://nlp.stanford.edu/data/glove.6B.zip\n",
            "Resolving nlp.stanford.edu (nlp.stanford.edu)... 171.64.67.140\n",
            "Connecting to nlp.stanford.edu (nlp.stanford.edu)|171.64.67.140|:80... connected.\n",
            "HTTP request sent, awaiting response... 302 Found\n",
            "Location: https://nlp.stanford.edu/data/glove.6B.zip [following]\n",
            "--2022-03-20 18:28:38--  https://nlp.stanford.edu/data/glove.6B.zip\n",
            "Connecting to nlp.stanford.edu (nlp.stanford.edu)|171.64.67.140|:443... connected.\n",
            "HTTP request sent, awaiting response... 301 Moved Permanently\n",
            "Location: http://downloads.cs.stanford.edu/nlp/data/glove.6B.zip [following]\n",
            "--2022-03-20 18:28:38--  http://downloads.cs.stanford.edu/nlp/data/glove.6B.zip\n",
            "Resolving downloads.cs.stanford.edu (downloads.cs.stanford.edu)... 171.64.64.22\n",
            "Connecting to downloads.cs.stanford.edu (downloads.cs.stanford.edu)|171.64.64.22|:80... connected.\n",
            "HTTP request sent, awaiting response... 200 OK\n",
            "Length: 862182613 (822M) [application/zip]\n",
            "Saving to: ‘glove.6B.zip’\n",
            "\n",
            "glove.6B.zip        100%[===================>] 822.24M  5.11MB/s    in 2m 42s  \n",
            "\n",
            "2022-03-20 18:31:20 (5.09 MB/s) - ‘glove.6B.zip’ saved [862182613/862182613]\n",
            "\n"
          ]
        }
      ]
    },
    {
      "cell_type": "code",
      "source": [
        "!unzip glove*.zip"
      ],
      "metadata": {
        "colab": {
          "base_uri": "https://localhost:8080/"
        },
        "id": "_tAttt0aPVj8",
        "outputId": "5c3ce923-470e-4e17-92c4-d1c52fb0cf88"
      },
      "id": "_tAttt0aPVj8",
      "execution_count": null,
      "outputs": [
        {
          "output_type": "stream",
          "name": "stdout",
          "text": [
            "Archive:  glove.6B.zip\n",
            "  inflating: glove.6B.50d.txt        \n",
            "  inflating: glove.6B.100d.txt       \n",
            "  inflating: glove.6B.200d.txt       \n",
            "  inflating: glove.6B.300d.txt       \n"
          ]
        }
      ]
    },
    {
      "cell_type": "code",
      "source": [
        "# word embeddings: using glove.6B pre-trained dataset to extract the representing vectors of words\n",
        "# embeddings_index: key: word, value: vector (is a dict)\n",
        "embeddings_index = {}\n",
        "with open('glove.6B.100d.txt', encoding='utf-8') as f:\n",
        "    for line in f:\n",
        "        word, coefs = line.split(maxsplit=1)\n",
        "        coefs = np.fromstring(coefs, \"f\", sep=\" \")\n",
        "        embeddings_index[word] = coefs\n",
        "print(\"Found %s word vectors.\" % len(embeddings_index))"
      ],
      "metadata": {
        "colab": {
          "base_uri": "https://localhost:8080/"
        },
        "id": "4KRRxng8Qprr",
        "outputId": "44408471-813a-4a7f-bf47-ec8c4fd654fe"
      },
      "id": "4KRRxng8Qprr",
      "execution_count": null,
      "outputs": [
        {
          "output_type": "stream",
          "name": "stdout",
          "text": [
            "Found 400000 word vectors.\n"
          ]
        }
      ]
    },
    {
      "cell_type": "code",
      "source": [
        "# now we have the representing array of words\n",
        "# take \"feel\" for example\n",
        "embeddings_index['feel']"
      ],
      "metadata": {
        "colab": {
          "base_uri": "https://localhost:8080/"
        },
        "id": "AWxL9vCGJlJg",
        "outputId": "2224f390-cf35-40d9-857e-62c5854bd501"
      },
      "execution_count": null,
      "outputs": [
        {
          "output_type": "execute_result",
          "data": {
            "text/plain": [
              "array([-4.2895e-02,  7.0671e-01,  7.5316e-01, -5.9963e-01, -8.0169e-01,\n",
              "        6.0094e-01, -6.7419e-01,  2.3592e-01,  2.4005e-01, -3.6372e-01,\n",
              "       -2.2720e-01,  3.6026e-02,  4.6591e-01, -3.6233e-01, -3.1325e-01,\n",
              "       -3.6757e-01, -5.7255e-01,  3.0661e-01, -4.8606e-01,  6.3214e-01,\n",
              "        2.8931e-01,  6.0741e-01, -8.6788e-03, -6.8206e-01, -1.8410e-01,\n",
              "        2.4847e-01,  9.5902e-02, -6.9108e-01,  9.0869e-01, -3.9224e-01,\n",
              "        1.4345e-01,  7.8112e-01, -1.1601e-01,  6.0312e-02,  4.6300e-01,\n",
              "       -4.4191e-02,  1.4284e-01,  6.2234e-01,  2.3943e-01, -4.6815e-01,\n",
              "       -2.2553e-01, -3.1920e-01,  3.1397e-01, -4.2308e-01, -4.0827e-01,\n",
              "       -2.4659e-01,  5.1572e-01,  3.5494e-01,  3.1545e-01, -1.4043e+00,\n",
              "       -1.6486e-01, -5.5508e-02,  1.0260e-01,  6.1515e-01,  1.2691e-01,\n",
              "       -2.2379e+00,  6.9510e-01,  1.2609e-01,  1.0901e+00,  2.5953e-01,\n",
              "        2.2974e-01,  1.1125e+00, -1.0156e+00, -4.1881e-01,  3.8853e-01,\n",
              "       -4.8856e-02,  9.1775e-01,  1.9732e-03, -6.9162e-01, -5.8945e-01,\n",
              "        3.5722e-01, -5.2180e-01, -1.2020e-01, -1.3826e-01,  2.1568e-01,\n",
              "        5.7880e-01,  3.7060e-02, -5.7264e-02, -2.7097e-02, -2.5526e-01,\n",
              "       -3.9219e-01,  3.7948e-02, -8.5041e-01,  4.6354e-01, -1.6462e+00,\n",
              "       -2.7176e-01, -1.8171e-01, -3.8026e-02, -9.7623e-01, -5.1404e-01,\n",
              "        6.9445e-02, -4.6013e-01,  2.5073e-01, -5.0782e-01, -1.5645e-01,\n",
              "        1.2076e-01, -5.5868e-02, -5.4230e-01,  1.1809e-01,  3.9974e-01],\n",
              "      dtype=float32)"
            ]
          },
          "metadata": {},
          "execution_count": 15
        }
      ],
      "id": "AWxL9vCGJlJg"
    },
    {
      "cell_type": "code",
      "source": [
        "tokenizer = Tokenizer(num_words=20000)\n",
        "tokenizer.fit_on_texts(texts)\n",
        "# sequences: tokenized texts\n",
        "sequences = tokenizer.texts_to_sequences(texts)\n",
        "\n",
        "word_index = tokenizer.word_index\n",
        "print('Found %s unique tokens.' % len(word_index))\n",
        "textLength = 200\n",
        "data = pad_sequences(sequences, maxlen=textLength)"
      ],
      "metadata": {
        "id": "EeC4lkrnGe3t",
        "colab": {
          "base_uri": "https://localhost:8080/"
        },
        "outputId": "597390d8-6bae-47e2-c3d6-8f4a2d64a250"
      },
      "execution_count": null,
      "outputs": [
        {
          "output_type": "stream",
          "name": "stdout",
          "text": [
            "Found 29254 unique tokens.\n"
          ]
        }
      ],
      "id": "EeC4lkrnGe3t"
    },
    {
      "cell_type": "code",
      "source": [
        "# now we have word index of our texts\n",
        "data"
      ],
      "metadata": {
        "colab": {
          "base_uri": "https://localhost:8080/"
        },
        "id": "lC53qbSJKJRA",
        "outputId": "c9d4cc06-3c37-441c-9629-bb582707376c"
      },
      "execution_count": null,
      "outputs": [
        {
          "output_type": "execute_result",
          "data": {
            "text/plain": [
              "array([[   0,    0,    0, ...,   10,  251,  135],\n",
              "       [   0,    0,    0, ...,    3,  186, 1130],\n",
              "       [   0,    0,    0, ...,   27,    1,  163],\n",
              "       ...,\n",
              "       [   0,    0,    0, ...,  502,    4, 9324],\n",
              "       [   0,    0,    0, ...,  944,   47,    7],\n",
              "       [   0,    0,    0, ..., 1272,   36, 1935]], dtype=int32)"
            ]
          },
          "metadata": {},
          "execution_count": 17
        }
      ],
      "id": "lC53qbSJKJRA"
    },
    {
      "cell_type": "code",
      "source": [
        "# establish a matrix combining embedding vector with word index\n",
        "num_words = min(20000, len(word_index))\n",
        "embedding_matrix = np.zeros((num_words, 100))\n",
        "for word, i in word_index.items():\n",
        "    if i >= 20000:\n",
        "        continue\n",
        "    # get the embedding array(from embedding_index) of each word(from word_index)\n",
        "    embedding_vector = embeddings_index.get(word)\n",
        "    if embedding_vector is not None:\n",
        "        # words not found in embedding index will be all-zeros.\n",
        "        # merge embedding vector with word index\n",
        "        embedding_matrix[i] = embedding_vector"
      ],
      "metadata": {
        "id": "N8hbqzvvWpwZ"
      },
      "id": "N8hbqzvvWpwZ",
      "execution_count": null,
      "outputs": []
    },
    {
      "cell_type": "code",
      "source": [
        "# create a embedding layer which will be used in the next step\n",
        "embedding_layer = Embedding(num_words,\n",
        "                            100,\n",
        "                            weights=[embedding_matrix],\n",
        "                            input_length=textLength,\n",
        "                            trainable=False)"
      ],
      "metadata": {
        "id": "8_citc_MGjd5"
      },
      "execution_count": null,
      "outputs": [],
      "id": "8_citc_MGjd5"
    },
    {
      "cell_type": "markdown",
      "source": [
        "## Defining the Model"
      ],
      "metadata": {
        "id": "AiTy3WJebL78"
      },
      "id": "AiTy3WJebL78"
    },
    {
      "cell_type": "code",
      "source": [
        "# define our model\n",
        "sequence_input = Input(shape=(textLength), dtype='int32')\n",
        "outputList = []\n",
        "embedded_sequences = embedding_layer(sequence_input)\n",
        "print(embedded_sequences.shape)\n",
        "x = Conv1D(16, 3, activation='relu')(embedded_sequences)\n",
        "x = MaxPooling1D(pool_size=2,strides=2)(x)\n",
        "x = Conv1D(64, 3, activation='relu')(x)\n",
        "x = MaxPooling1D(pool_size=2,strides=2)(x)\n",
        "x = Conv1D(128, 3, activation='relu')(x)\n",
        "x = GlobalAveragePooling1D()(x)\n",
        "x = Dense(50, activation='relu')(x) # You go from 128 mapped features to 256 dense nodes? That's odd... \n",
        "output = Dense(28, activation='sigmoid')(x)\n",
        "\n",
        "#for label in labels:\n",
        "#    outputList.append(Dense(1, activation='sigmoid')(x))\n",
        "#model = Model(inputs=sequence_input, outputs=outputList)\n",
        "model = Model(inputs=sequence_input, outputs=output)\n",
        "\n",
        "model.compile(loss='binary_crossentropy',\n",
        "              optimizer='adam',\n",
        "              metrics=['categorical_accuracy'])\n",
        "print(model.summary())"
      ],
      "metadata": {
        "colab": {
          "base_uri": "https://localhost:8080/"
        },
        "outputId": "f3084d00-8a35-4804-aaf0-c406af29843d",
        "id": "jAC76fmURCzA"
      },
      "execution_count": null,
      "outputs": [
        {
          "output_type": "stream",
          "name": "stdout",
          "text": [
            "(None, 200, 100)\n",
            "Model: \"model_3\"\n",
            "_________________________________________________________________\n",
            " Layer (type)                Output Shape              Param #   \n",
            "=================================================================\n",
            " input_6 (InputLayer)        [(None, 200)]             0         \n",
            "                                                                 \n",
            " embedding (Embedding)       multiple                  2000000   \n",
            "                                                                 \n",
            " conv1d_11 (Conv1D)          (None, 198, 16)           4816      \n",
            "                                                                 \n",
            " max_pooling1d_6 (MaxPooling  (None, 99, 16)           0         \n",
            " 1D)                                                             \n",
            "                                                                 \n",
            " conv1d_12 (Conv1D)          (None, 97, 64)            3136      \n",
            "                                                                 \n",
            " max_pooling1d_7 (MaxPooling  (None, 48, 64)           0         \n",
            " 1D)                                                             \n",
            "                                                                 \n",
            " conv1d_13 (Conv1D)          (None, 46, 128)           24704     \n",
            "                                                                 \n",
            " global_average_pooling1d_3   (None, 128)              0         \n",
            " (GlobalAveragePooling1D)                                        \n",
            "                                                                 \n",
            " dense_6 (Dense)             (None, 50)                6450      \n",
            "                                                                 \n",
            " dense_7 (Dense)             (None, 28)                1428      \n",
            "                                                                 \n",
            "=================================================================\n",
            "Total params: 2,040,534\n",
            "Trainable params: 40,534\n",
            "Non-trainable params: 2,000,000\n",
            "_________________________________________________________________\n",
            "None\n"
          ]
        }
      ],
      "id": "jAC76fmURCzA"
    },
    {
      "cell_type": "code",
      "source": [
        "keras.utils.plot_model(model, show_shapes = True)"
      ],
      "metadata": {
        "colab": {
          "base_uri": "https://localhost:8080/",
          "height": 1000
        },
        "id": "EO4mrhB_Zj0U",
        "outputId": "435b9b89-1a57-4b54-d6fb-87e1b98e7226"
      },
      "id": "EO4mrhB_Zj0U",
      "execution_count": null,
      "outputs": [
        {
          "output_type": "execute_result",
          "data": {
            "text/plain": [
              "<IPython.core.display.Image object>"
            ],
            "image/png": "[encoded data removed]"
          },
          "metadata": {},
          "execution_count": 21
        }
      ]
    },
    {
      "cell_type": "markdown",
      "source": [
        "## Fitting the Model"
      ],
      "metadata": {
        "id": "KMTzoj9QXFUc"
      },
      "id": "KMTzoj9QXFUc"
    },
    {
      "cell_type": "code",
      "source": [
        "labelsTrn.iloc[train].to_numpy()"
      ],
      "metadata": {
        "colab": {
          "base_uri": "https://localhost:8080/"
        },
        "id": "QYm0aW2nn8v8",
        "outputId": "e4f99686-a8ff-4431-f915-c8b1bf15cfd0"
      },
      "id": "QYm0aW2nn8v8",
      "execution_count": null,
      "outputs": [
        {
          "output_type": "execute_result",
          "data": {
            "text/plain": [
              "array([[0, 0, 0, ..., 0, 0, 0],\n",
              "       [0, 0, 1, ..., 0, 1, 0],\n",
              "       [0, 0, 0, ..., 0, 0, 0],\n",
              "       ...,\n",
              "       [0, 0, 0, ..., 0, 0, 0],\n",
              "       [0, 0, 0, ..., 0, 0, 1],\n",
              "       [0, 0, 0, ..., 0, 0, 0]])"
            ]
          },
          "metadata": {},
          "execution_count": 46
        }
      ]
    },
    {
      "cell_type": "code",
      "source": [
        "# split the train and test dataset\n",
        "dataTrn, datTst, labelsTrn, labelsTst = train_test_split(data, labels, test_size=0.2)"
      ],
      "metadata": {
        "id": "jjHss4xJaGRG"
      },
      "id": "jjHss4xJaGRG",
      "execution_count": null,
      "outputs": []
    },
    {
      "cell_type": "code",
      "source": [
        "kfold = KFold(n_splits=3, shuffle=False)\n",
        "all_acc = []\n",
        "all_val_acc = []\n",
        "all_loss_histories = []\n",
        "all_val_loss_histories = []"
      ],
      "metadata": {
        "id": "xMgfVAZkbSDJ"
      },
      "id": "xMgfVAZkbSDJ",
      "execution_count": null,
      "outputs": []
    },
    {
      "cell_type": "code",
      "source": [
        "for train, test in kfold.split(dataTrn, labelsTrn):\n",
        "    x = dataTrn[train]\n",
        "    y = labelsTrn.iloc[train].to_numpy()\n",
        "    x_val = dataTrn[test]\n",
        "    y_val = labelsTrn.iloc[test].to_numpy()\n",
        "    labelList = []\n",
        "    labelList_val = []\n",
        "    \n",
        "    print(x.shape)\n",
        "    #for label in labels.columns:\n",
        "    #    labelList.append(y[label].values)\n",
        "    #for label in labels.columns:\n",
        "    #    labelList_val.append(y_val[label].values)\n",
        "    # print(type(x),type(labelList))\n",
        "    history = model.fit(x, y, validation_data=(x_val, y_val),batch_size=128,epochs=100) # modified this to pass the set of 28 labels. \n",
        "    # scores = model.evaluate(x_val, labelList_val)\n",
        "\n",
        "    val_loss_history = history.history['val_loss']\n",
        "    loss_history = history.history['loss']\n",
        "    val_acc = []\n",
        "    acc_history = []\n",
        "    for i in history.history.keys():\n",
        "      if 'acc' in i:\n",
        "        if ('val' not in i) & ('dense' in i): \n",
        "          acc_history.append(history.history[i])\n",
        "        elif 'val' in i:\n",
        "          val_acc.append(history.history[i])\n",
        "    # acc_history = history.history['val_acc']\n",
        "\n",
        "    all_val_loss_histories.append(val_loss_history)\n",
        "    all_loss_histories.append(loss_history)\n",
        "    # all_acc.append(acc_history)\n",
        "    # print(history.history)\n",
        "    all_acc.append(acc_history)\n",
        "    all_val_acc.append(val_acc)"
      ],
      "metadata": {
        "colab": {
          "base_uri": "https://localhost:8080/"
        },
        "id": "Yb1UoqGnbP9h",
        "outputId": "f9d39fbd-ee2c-4e27-a823-eff2d1237255"
      },
      "id": "Yb1UoqGnbP9h",
      "execution_count": null,
      "outputs": [
        {
          "output_type": "stream",
          "name": "stdout",
          "text": [
            "(29333, 200)\n",
            "Epoch 1/100\n",
            "230/230 [==============================] - 3s 7ms/step - loss: 0.3360 - categorical_accuracy: 0.0671 - val_loss: 0.2915 - val_categorical_accuracy: 0.0679\n",
            "Epoch 2/100\n",
            "230/230 [==============================] - 1s 5ms/step - loss: 0.2909 - categorical_accuracy: 0.0670 - val_loss: 0.2907 - val_categorical_accuracy: 0.0680\n",
            "Epoch 3/100\n",
            "230/230 [==============================] - 1s 5ms/step - loss: 0.2891 - categorical_accuracy: 0.0673 - val_loss: 0.2870 - val_categorical_accuracy: 0.0694\n",
            "Epoch 4/100\n",
            "230/230 [==============================] - 1s 5ms/step - loss: 0.2840 - categorical_accuracy: 0.0772 - val_loss: 0.2811 - val_categorical_accuracy: 0.0950\n",
            "Epoch 5/100\n",
            "230/230 [==============================] - 1s 5ms/step - loss: 0.2786 - categorical_accuracy: 0.1097 - val_loss: 0.2781 - val_categorical_accuracy: 0.1248\n",
            "Epoch 6/100\n",
            "230/230 [==============================] - 1s 5ms/step - loss: 0.2758 - categorical_accuracy: 0.1226 - val_loss: 0.2762 - val_categorical_accuracy: 0.1251\n",
            "Epoch 7/100\n",
            "230/230 [==============================] - 1s 5ms/step - loss: 0.2743 - categorical_accuracy: 0.1236 - val_loss: 0.2754 - val_categorical_accuracy: 0.1179\n",
            "Epoch 8/100\n",
            "230/230 [==============================] - 1s 5ms/step - loss: 0.2726 - categorical_accuracy: 0.1235 - val_loss: 0.2735 - val_categorical_accuracy: 0.1233\n",
            "Epoch 9/100\n",
            "230/230 [==============================] - 1s 5ms/step - loss: 0.2711 - categorical_accuracy: 0.1263 - val_loss: 0.2726 - val_categorical_accuracy: 0.1200\n",
            "Epoch 10/100\n",
            "230/230 [==============================] - 1s 5ms/step - loss: 0.2695 - categorical_accuracy: 0.1266 - val_loss: 0.2714 - val_categorical_accuracy: 0.1247\n",
            "Epoch 11/100\n",
            "230/230 [==============================] - 1s 5ms/step - loss: 0.2678 - categorical_accuracy: 0.1297 - val_loss: 0.2705 - val_categorical_accuracy: 0.1138\n",
            "Epoch 12/100\n",
            "230/230 [==============================] - 1s 5ms/step - loss: 0.2668 - categorical_accuracy: 0.1324 - val_loss: 0.2689 - val_categorical_accuracy: 0.1316\n",
            "Epoch 13/100\n",
            "230/230 [==============================] - 1s 5ms/step - loss: 0.2655 - categorical_accuracy: 0.1355 - val_loss: 0.2715 - val_categorical_accuracy: 0.1180\n",
            "Epoch 14/100\n",
            "230/230 [==============================] - 1s 5ms/step - loss: 0.2646 - categorical_accuracy: 0.1371 - val_loss: 0.2678 - val_categorical_accuracy: 0.1467\n",
            "Epoch 15/100\n",
            "230/230 [==============================] - 1s 5ms/step - loss: 0.2631 - categorical_accuracy: 0.1381 - val_loss: 0.2670 - val_categorical_accuracy: 0.1421\n",
            "Epoch 16/100\n",
            "230/230 [==============================] - 1s 5ms/step - loss: 0.2619 - categorical_accuracy: 0.1407 - val_loss: 0.2656 - val_categorical_accuracy: 0.1353\n",
            "Epoch 17/100\n",
            "230/230 [==============================] - 1s 5ms/step - loss: 0.2607 - categorical_accuracy: 0.1401 - val_loss: 0.2654 - val_categorical_accuracy: 0.1308\n",
            "Epoch 18/100\n",
            "230/230 [==============================] - 1s 5ms/step - loss: 0.2594 - categorical_accuracy: 0.1396 - val_loss: 0.2639 - val_categorical_accuracy: 0.1354\n",
            "Epoch 19/100\n",
            "230/230 [==============================] - 1s 5ms/step - loss: 0.2582 - categorical_accuracy: 0.1410 - val_loss: 0.2627 - val_categorical_accuracy: 0.1374\n",
            "Epoch 20/100\n",
            "230/230 [==============================] - 1s 5ms/step - loss: 0.2571 - categorical_accuracy: 0.1426 - val_loss: 0.2638 - val_categorical_accuracy: 0.1499\n",
            "Epoch 21/100\n",
            "230/230 [==============================] - 1s 5ms/step - loss: 0.2563 - categorical_accuracy: 0.1457 - val_loss: 0.2613 - val_categorical_accuracy: 0.1420\n",
            "Epoch 22/100\n",
            "230/230 [==============================] - 1s 5ms/step - loss: 0.2551 - categorical_accuracy: 0.1477 - val_loss: 0.2609 - val_categorical_accuracy: 0.1411\n",
            "Epoch 23/100\n",
            "230/230 [==============================] - 1s 5ms/step - loss: 0.2542 - categorical_accuracy: 0.1502 - val_loss: 0.2600 - val_categorical_accuracy: 0.1527\n",
            "Epoch 24/100\n",
            "230/230 [==============================] - 1s 5ms/step - loss: 0.2536 - categorical_accuracy: 0.1526 - val_loss: 0.2597 - val_categorical_accuracy: 0.1454\n",
            "Epoch 25/100\n",
            "230/230 [==============================] - 1s 5ms/step - loss: 0.2526 - categorical_accuracy: 0.1545 - val_loss: 0.2590 - val_categorical_accuracy: 0.1527\n",
            "Epoch 26/100\n",
            "230/230 [==============================] - 1s 5ms/step - loss: 0.2519 - categorical_accuracy: 0.1552 - val_loss: 0.2593 - val_categorical_accuracy: 0.1454\n",
            "Epoch 27/100\n",
            "230/230 [==============================] - 1s 5ms/step - loss: 0.2512 - categorical_accuracy: 0.1577 - val_loss: 0.2582 - val_categorical_accuracy: 0.1493\n",
            "Epoch 28/100\n",
            "230/230 [==============================] - 1s 5ms/step - loss: 0.2505 - categorical_accuracy: 0.1582 - val_loss: 0.2582 - val_categorical_accuracy: 0.1469\n",
            "Epoch 29/100\n",
            "230/230 [==============================] - 1s 5ms/step - loss: 0.2501 - categorical_accuracy: 0.1603 - val_loss: 0.2578 - val_categorical_accuracy: 0.1650\n",
            "Epoch 30/100\n",
            "230/230 [==============================] - 1s 5ms/step - loss: 0.2497 - categorical_accuracy: 0.1611 - val_loss: 0.2585 - val_categorical_accuracy: 0.1578\n",
            "Epoch 31/100\n",
            "230/230 [==============================] - 1s 5ms/step - loss: 0.2491 - categorical_accuracy: 0.1607 - val_loss: 0.2571 - val_categorical_accuracy: 0.1556\n",
            "Epoch 32/100\n",
            "230/230 [==============================] - 1s 5ms/step - loss: 0.2485 - categorical_accuracy: 0.1637 - val_loss: 0.2571 - val_categorical_accuracy: 0.1570\n",
            "Epoch 33/100\n",
            "230/230 [==============================] - 1s 5ms/step - loss: 0.2480 - categorical_accuracy: 0.1634 - val_loss: 0.2574 - val_categorical_accuracy: 0.1535\n",
            "Epoch 34/100\n",
            "230/230 [==============================] - 1s 5ms/step - loss: 0.2475 - categorical_accuracy: 0.1635 - val_loss: 0.2574 - val_categorical_accuracy: 0.1570\n",
            "Epoch 35/100\n",
            "230/230 [==============================] - 1s 5ms/step - loss: 0.2471 - categorical_accuracy: 0.1656 - val_loss: 0.2567 - val_categorical_accuracy: 0.1669\n",
            "Epoch 36/100\n",
            "230/230 [==============================] - 1s 5ms/step - loss: 0.2466 - categorical_accuracy: 0.1667 - val_loss: 0.2560 - val_categorical_accuracy: 0.1552\n",
            "Epoch 37/100\n",
            "230/230 [==============================] - 1s 5ms/step - loss: 0.2460 - categorical_accuracy: 0.1688 - val_loss: 0.2557 - val_categorical_accuracy: 0.1600\n",
            "Epoch 38/100\n",
            "230/230 [==============================] - 1s 5ms/step - loss: 0.2457 - categorical_accuracy: 0.1680 - val_loss: 0.2557 - val_categorical_accuracy: 0.1683\n",
            "Epoch 39/100\n",
            "230/230 [==============================] - 1s 5ms/step - loss: 0.2453 - categorical_accuracy: 0.1708 - val_loss: 0.2560 - val_categorical_accuracy: 0.1677\n",
            "Epoch 40/100\n",
            "230/230 [==============================] - 1s 5ms/step - loss: 0.2449 - categorical_accuracy: 0.1714 - val_loss: 0.2570 - val_categorical_accuracy: 0.1771\n",
            "Epoch 41/100\n",
            "230/230 [==============================] - 1s 5ms/step - loss: 0.2446 - categorical_accuracy: 0.1716 - val_loss: 0.2560 - val_categorical_accuracy: 0.1656\n",
            "Epoch 42/100\n",
            "230/230 [==============================] - 1s 5ms/step - loss: 0.2442 - categorical_accuracy: 0.1737 - val_loss: 0.2554 - val_categorical_accuracy: 0.1660\n",
            "Epoch 43/100\n",
            "230/230 [==============================] - 1s 5ms/step - loss: 0.2437 - categorical_accuracy: 0.1734 - val_loss: 0.2548 - val_categorical_accuracy: 0.1675\n",
            "Epoch 44/100\n",
            "230/230 [==============================] - 1s 5ms/step - loss: 0.2434 - categorical_accuracy: 0.1744 - val_loss: 0.2548 - val_categorical_accuracy: 0.1696\n",
            "Epoch 45/100\n",
            "230/230 [==============================] - 1s 5ms/step - loss: 0.2431 - categorical_accuracy: 0.1760 - val_loss: 0.2563 - val_categorical_accuracy: 0.1671\n",
            "Epoch 46/100\n",
            "230/230 [==============================] - 1s 5ms/step - loss: 0.2427 - categorical_accuracy: 0.1768 - val_loss: 0.2556 - val_categorical_accuracy: 0.1785\n",
            "Epoch 47/100\n",
            "230/230 [==============================] - 1s 5ms/step - loss: 0.2423 - categorical_accuracy: 0.1772 - val_loss: 0.2560 - val_categorical_accuracy: 0.1685\n",
            "Epoch 48/100\n",
            "230/230 [==============================] - 1s 5ms/step - loss: 0.2420 - categorical_accuracy: 0.1787 - val_loss: 0.2548 - val_categorical_accuracy: 0.1662\n",
            "Epoch 49/100\n",
            "230/230 [==============================] - 1s 5ms/step - loss: 0.2414 - categorical_accuracy: 0.1788 - val_loss: 0.2546 - val_categorical_accuracy: 0.1762\n",
            "Epoch 50/100\n",
            "230/230 [==============================] - 1s 5ms/step - loss: 0.2412 - categorical_accuracy: 0.1808 - val_loss: 0.2542 - val_categorical_accuracy: 0.1714\n",
            "Epoch 51/100\n",
            "230/230 [==============================] - 1s 5ms/step - loss: 0.2408 - categorical_accuracy: 0.1820 - val_loss: 0.2543 - val_categorical_accuracy: 0.1798\n",
            "Epoch 52/100\n",
            "230/230 [==============================] - 1s 5ms/step - loss: 0.2405 - categorical_accuracy: 0.1833 - val_loss: 0.2545 - val_categorical_accuracy: 0.1712\n",
            "Epoch 53/100\n",
            "230/230 [==============================] - 1s 5ms/step - loss: 0.2401 - categorical_accuracy: 0.1844 - val_loss: 0.2549 - val_categorical_accuracy: 0.1780\n",
            "Epoch 54/100\n",
            "230/230 [==============================] - 1s 5ms/step - loss: 0.2398 - categorical_accuracy: 0.1856 - val_loss: 0.2541 - val_categorical_accuracy: 0.1865\n",
            "Epoch 55/100\n",
            "230/230 [==============================] - 1s 5ms/step - loss: 0.2395 - categorical_accuracy: 0.1856 - val_loss: 0.2545 - val_categorical_accuracy: 0.1784\n",
            "Epoch 56/100\n",
            "230/230 [==============================] - 1s 5ms/step - loss: 0.2391 - categorical_accuracy: 0.1875 - val_loss: 0.2547 - val_categorical_accuracy: 0.1779\n",
            "Epoch 57/100\n",
            "230/230 [==============================] - 1s 5ms/step - loss: 0.2391 - categorical_accuracy: 0.1868 - val_loss: 0.2544 - val_categorical_accuracy: 0.1816\n",
            "Epoch 58/100\n",
            "230/230 [==============================] - 1s 5ms/step - loss: 0.2387 - categorical_accuracy: 0.1887 - val_loss: 0.2546 - val_categorical_accuracy: 0.1719\n",
            "Epoch 59/100\n",
            "230/230 [==============================] - 1s 5ms/step - loss: 0.2383 - categorical_accuracy: 0.1893 - val_loss: 0.2553 - val_categorical_accuracy: 0.1723\n",
            "Epoch 60/100\n",
            "230/230 [==============================] - 1s 5ms/step - loss: 0.2380 - categorical_accuracy: 0.1885 - val_loss: 0.2540 - val_categorical_accuracy: 0.1760\n",
            "Epoch 61/100\n",
            "230/230 [==============================] - 1s 5ms/step - loss: 0.2377 - categorical_accuracy: 0.1907 - val_loss: 0.2538 - val_categorical_accuracy: 0.1741\n",
            "Epoch 62/100\n",
            "230/230 [==============================] - 1s 5ms/step - loss: 0.2375 - categorical_accuracy: 0.1901 - val_loss: 0.2545 - val_categorical_accuracy: 0.1756\n",
            "Epoch 63/100\n",
            "230/230 [==============================] - 1s 5ms/step - loss: 0.2371 - categorical_accuracy: 0.1917 - val_loss: 0.2543 - val_categorical_accuracy: 0.1808\n",
            "Epoch 64/100\n",
            "230/230 [==============================] - 1s 5ms/step - loss: 0.2369 - categorical_accuracy: 0.1913 - val_loss: 0.2540 - val_categorical_accuracy: 0.1841\n",
            "Epoch 65/100\n",
            "230/230 [==============================] - 1s 5ms/step - loss: 0.2367 - categorical_accuracy: 0.1918 - val_loss: 0.2542 - val_categorical_accuracy: 0.1788\n",
            "Epoch 66/100\n",
            "230/230 [==============================] - 1s 5ms/step - loss: 0.2364 - categorical_accuracy: 0.1919 - val_loss: 0.2540 - val_categorical_accuracy: 0.1814\n",
            "Epoch 67/100\n",
            "230/230 [==============================] - 1s 5ms/step - loss: 0.2363 - categorical_accuracy: 0.1915 - val_loss: 0.2549 - val_categorical_accuracy: 0.1872\n",
            "Epoch 68/100\n",
            "230/230 [==============================] - 1s 5ms/step - loss: 0.2357 - categorical_accuracy: 0.1940 - val_loss: 0.2544 - val_categorical_accuracy: 0.1734\n",
            "Epoch 69/100\n",
            "230/230 [==============================] - 1s 5ms/step - loss: 0.2355 - categorical_accuracy: 0.1930 - val_loss: 0.2542 - val_categorical_accuracy: 0.1780\n",
            "Epoch 70/100\n",
            "230/230 [==============================] - 1s 5ms/step - loss: 0.2352 - categorical_accuracy: 0.1938 - val_loss: 0.2551 - val_categorical_accuracy: 0.1867\n",
            "Epoch 71/100\n",
            "230/230 [==============================] - 1s 5ms/step - loss: 0.2351 - categorical_accuracy: 0.1936 - val_loss: 0.2549 - val_categorical_accuracy: 0.1884\n",
            "Epoch 72/100\n",
            "230/230 [==============================] - 2s 7ms/step - loss: 0.2346 - categorical_accuracy: 0.1956 - val_loss: 0.2545 - val_categorical_accuracy: 0.1787\n",
            "Epoch 73/100\n",
            "230/230 [==============================] - 1s 5ms/step - loss: 0.2343 - categorical_accuracy: 0.1952 - val_loss: 0.2552 - val_categorical_accuracy: 0.1870\n",
            "Epoch 74/100\n",
            "230/230 [==============================] - 1s 5ms/step - loss: 0.2343 - categorical_accuracy: 0.1945 - val_loss: 0.2545 - val_categorical_accuracy: 0.1788\n",
            "Epoch 75/100\n",
            "230/230 [==============================] - 1s 5ms/step - loss: 0.2339 - categorical_accuracy: 0.1946 - val_loss: 0.2553 - val_categorical_accuracy: 0.1874\n",
            "Epoch 76/100\n",
            "230/230 [==============================] - 1s 5ms/step - loss: 0.2337 - categorical_accuracy: 0.1967 - val_loss: 0.2549 - val_categorical_accuracy: 0.1818\n",
            "Epoch 77/100\n",
            "230/230 [==============================] - 1s 5ms/step - loss: 0.2335 - categorical_accuracy: 0.1962 - val_loss: 0.2545 - val_categorical_accuracy: 0.1861\n",
            "Epoch 78/100\n",
            "230/230 [==============================] - 1s 5ms/step - loss: 0.2333 - categorical_accuracy: 0.1956 - val_loss: 0.2554 - val_categorical_accuracy: 0.1814\n",
            "Epoch 79/100\n",
            "230/230 [==============================] - 1s 5ms/step - loss: 0.2329 - categorical_accuracy: 0.1974 - val_loss: 0.2551 - val_categorical_accuracy: 0.1773\n",
            "Epoch 80/100\n",
            "230/230 [==============================] - 1s 5ms/step - loss: 0.2326 - categorical_accuracy: 0.1984 - val_loss: 0.2553 - val_categorical_accuracy: 0.1790\n",
            "Epoch 81/100\n",
            "230/230 [==============================] - 1s 5ms/step - loss: 0.2324 - categorical_accuracy: 0.1982 - val_loss: 0.2550 - val_categorical_accuracy: 0.1795\n",
            "Epoch 82/100\n",
            "230/230 [==============================] - 1s 5ms/step - loss: 0.2322 - categorical_accuracy: 0.1979 - val_loss: 0.2556 - val_categorical_accuracy: 0.1902\n",
            "Epoch 83/100\n",
            "230/230 [==============================] - 1s 5ms/step - loss: 0.2318 - categorical_accuracy: 0.1985 - val_loss: 0.2554 - val_categorical_accuracy: 0.1825\n",
            "Epoch 84/100\n",
            "230/230 [==============================] - 1s 5ms/step - loss: 0.2318 - categorical_accuracy: 0.1987 - val_loss: 0.2553 - val_categorical_accuracy: 0.1846\n",
            "Epoch 85/100\n",
            "230/230 [==============================] - 1s 5ms/step - loss: 0.2314 - categorical_accuracy: 0.1989 - val_loss: 0.2558 - val_categorical_accuracy: 0.1796\n",
            "Epoch 86/100\n",
            "230/230 [==============================] - 1s 5ms/step - loss: 0.2313 - categorical_accuracy: 0.1999 - val_loss: 0.2564 - val_categorical_accuracy: 0.1905\n",
            "Epoch 87/100\n",
            "230/230 [==============================] - 1s 5ms/step - loss: 0.2311 - categorical_accuracy: 0.1993 - val_loss: 0.2557 - val_categorical_accuracy: 0.1816\n",
            "Epoch 88/100\n",
            "230/230 [==============================] - 1s 5ms/step - loss: 0.2308 - categorical_accuracy: 0.1996 - val_loss: 0.2559 - val_categorical_accuracy: 0.1846\n",
            "Epoch 89/100\n",
            "230/230 [==============================] - 1s 5ms/step - loss: 0.2305 - categorical_accuracy: 0.1998 - val_loss: 0.2558 - val_categorical_accuracy: 0.1899\n",
            "Epoch 90/100\n",
            "230/230 [==============================] - 1s 5ms/step - loss: 0.2304 - categorical_accuracy: 0.2019 - val_loss: 0.2563 - val_categorical_accuracy: 0.1800\n",
            "Epoch 91/100\n",
            "230/230 [==============================] - 1s 5ms/step - loss: 0.2300 - categorical_accuracy: 0.2000 - val_loss: 0.2574 - val_categorical_accuracy: 0.1897\n",
            "Epoch 92/100\n",
            "230/230 [==============================] - 1s 5ms/step - loss: 0.2298 - categorical_accuracy: 0.2023 - val_loss: 0.2577 - val_categorical_accuracy: 0.1859\n",
            "Epoch 93/100\n",
            "230/230 [==============================] - 1s 5ms/step - loss: 0.2296 - categorical_accuracy: 0.2018 - val_loss: 0.2565 - val_categorical_accuracy: 0.1883\n",
            "Epoch 94/100\n",
            "230/230 [==============================] - 1s 5ms/step - loss: 0.2293 - categorical_accuracy: 0.2023 - val_loss: 0.2568 - val_categorical_accuracy: 0.1812\n",
            "Epoch 95/100\n",
            "230/230 [==============================] - 1s 5ms/step - loss: 0.2291 - categorical_accuracy: 0.2028 - val_loss: 0.2571 - val_categorical_accuracy: 0.1914\n",
            "Epoch 96/100\n",
            "230/230 [==============================] - 1s 5ms/step - loss: 0.2289 - categorical_accuracy: 0.2032 - val_loss: 0.2588 - val_categorical_accuracy: 0.1848\n",
            "Epoch 97/100\n",
            "230/230 [==============================] - 1s 5ms/step - loss: 0.2290 - categorical_accuracy: 0.2021 - val_loss: 0.2574 - val_categorical_accuracy: 0.1882\n",
            "Epoch 98/100\n",
            "230/230 [==============================] - 1s 5ms/step - loss: 0.2284 - categorical_accuracy: 0.2044 - val_loss: 0.2577 - val_categorical_accuracy: 0.1885\n",
            "Epoch 99/100\n",
            "230/230 [==============================] - 1s 5ms/step - loss: 0.2282 - categorical_accuracy: 0.2040 - val_loss: 0.2574 - val_categorical_accuracy: 0.1840\n",
            "Epoch 100/100\n",
            "230/230 [==============================] - 1s 5ms/step - loss: 0.2280 - categorical_accuracy: 0.2058 - val_loss: 0.2577 - val_categorical_accuracy: 0.1901\n",
            "(29333, 200)\n",
            "Epoch 1/100\n",
            "230/230 [==============================] - 1s 5ms/step - loss: 0.2418 - categorical_accuracy: 0.1905 - val_loss: 0.2298 - val_categorical_accuracy: 0.1980\n",
            "Epoch 2/100\n",
            "230/230 [==============================] - 1s 5ms/step - loss: 0.2400 - categorical_accuracy: 0.1896 - val_loss: 0.2314 - val_categorical_accuracy: 0.2094\n",
            "Epoch 3/100\n",
            "230/230 [==============================] - 1s 5ms/step - loss: 0.2391 - categorical_accuracy: 0.1914 - val_loss: 0.2314 - val_categorical_accuracy: 0.1983\n",
            "Epoch 4/100\n",
            "230/230 [==============================] - 1s 5ms/step - loss: 0.2384 - categorical_accuracy: 0.1908 - val_loss: 0.2329 - val_categorical_accuracy: 0.2041\n",
            "Epoch 5/100\n",
            "230/230 [==============================] - 1s 5ms/step - loss: 0.2377 - categorical_accuracy: 0.1923 - val_loss: 0.2325 - val_categorical_accuracy: 0.1902\n",
            "Epoch 6/100\n",
            "230/230 [==============================] - 1s 5ms/step - loss: 0.2372 - categorical_accuracy: 0.1937 - val_loss: 0.2330 - val_categorical_accuracy: 0.1972\n",
            "Epoch 7/100\n",
            "230/230 [==============================] - 1s 5ms/step - loss: 0.2366 - categorical_accuracy: 0.1935 - val_loss: 0.2339 - val_categorical_accuracy: 0.1939\n",
            "Epoch 8/100\n",
            "230/230 [==============================] - 1s 5ms/step - loss: 0.2360 - categorical_accuracy: 0.1942 - val_loss: 0.2345 - val_categorical_accuracy: 0.2002\n",
            "Epoch 9/100\n",
            "230/230 [==============================] - 1s 5ms/step - loss: 0.2357 - categorical_accuracy: 0.1958 - val_loss: 0.2343 - val_categorical_accuracy: 0.2092\n",
            "Epoch 10/100\n",
            "230/230 [==============================] - 1s 5ms/step - loss: 0.2352 - categorical_accuracy: 0.1963 - val_loss: 0.2347 - val_categorical_accuracy: 0.2024\n",
            "Epoch 11/100\n",
            "230/230 [==============================] - 1s 5ms/step - loss: 0.2347 - categorical_accuracy: 0.1977 - val_loss: 0.2347 - val_categorical_accuracy: 0.2013\n",
            "Epoch 12/100\n",
            "230/230 [==============================] - 1s 5ms/step - loss: 0.2342 - categorical_accuracy: 0.1967 - val_loss: 0.2356 - val_categorical_accuracy: 0.2101\n",
            "Epoch 13/100\n",
            "230/230 [==============================] - 1s 5ms/step - loss: 0.2342 - categorical_accuracy: 0.1984 - val_loss: 0.2354 - val_categorical_accuracy: 0.2017\n",
            "Epoch 14/100\n",
            "230/230 [==============================] - 1s 5ms/step - loss: 0.2335 - categorical_accuracy: 0.1996 - val_loss: 0.2360 - val_categorical_accuracy: 0.2083\n",
            "Epoch 15/100\n",
            "230/230 [==============================] - 1s 5ms/step - loss: 0.2332 - categorical_accuracy: 0.1970 - val_loss: 0.2367 - val_categorical_accuracy: 0.1978\n",
            "Epoch 16/100\n",
            "230/230 [==============================] - 1s 5ms/step - loss: 0.2331 - categorical_accuracy: 0.1994 - val_loss: 0.2368 - val_categorical_accuracy: 0.2086\n",
            "Epoch 17/100\n",
            "230/230 [==============================] - 1s 5ms/step - loss: 0.2323 - categorical_accuracy: 0.2003 - val_loss: 0.2370 - val_categorical_accuracy: 0.2107\n",
            "Epoch 18/100\n",
            "230/230 [==============================] - 1s 5ms/step - loss: 0.2320 - categorical_accuracy: 0.1988 - val_loss: 0.2376 - val_categorical_accuracy: 0.2030\n",
            "Epoch 19/100\n",
            "230/230 [==============================] - 1s 5ms/step - loss: 0.2317 - categorical_accuracy: 0.2004 - val_loss: 0.2374 - val_categorical_accuracy: 0.1956\n",
            "Epoch 20/100\n",
            "230/230 [==============================] - 1s 5ms/step - loss: 0.2314 - categorical_accuracy: 0.2014 - val_loss: 0.2382 - val_categorical_accuracy: 0.1971\n",
            "Epoch 21/100\n",
            "230/230 [==============================] - 1s 5ms/step - loss: 0.2313 - categorical_accuracy: 0.2004 - val_loss: 0.2385 - val_categorical_accuracy: 0.2154\n",
            "Epoch 22/100\n",
            "230/230 [==============================] - 1s 5ms/step - loss: 0.2308 - categorical_accuracy: 0.2027 - val_loss: 0.2384 - val_categorical_accuracy: 0.2037\n",
            "Epoch 23/100\n",
            "230/230 [==============================] - 1s 5ms/step - loss: 0.2305 - categorical_accuracy: 0.2016 - val_loss: 0.2392 - val_categorical_accuracy: 0.2007\n",
            "Epoch 24/100\n",
            "230/230 [==============================] - 1s 5ms/step - loss: 0.2302 - categorical_accuracy: 0.2039 - val_loss: 0.2389 - val_categorical_accuracy: 0.2013\n",
            "Epoch 25/100\n",
            "230/230 [==============================] - 1s 5ms/step - loss: 0.2299 - categorical_accuracy: 0.2026 - val_loss: 0.2386 - val_categorical_accuracy: 0.2030\n",
            "Epoch 26/100\n",
            "230/230 [==============================] - 1s 5ms/step - loss: 0.2297 - categorical_accuracy: 0.2051 - val_loss: 0.2394 - val_categorical_accuracy: 0.2030\n",
            "Epoch 27/100\n",
            "230/230 [==============================] - 1s 5ms/step - loss: 0.2291 - categorical_accuracy: 0.2038 - val_loss: 0.2392 - val_categorical_accuracy: 0.2054\n",
            "Epoch 28/100\n",
            "230/230 [==============================] - 1s 5ms/step - loss: 0.2290 - categorical_accuracy: 0.2055 - val_loss: 0.2401 - val_categorical_accuracy: 0.2007\n",
            "Epoch 29/100\n",
            "230/230 [==============================] - 1s 5ms/step - loss: 0.2286 - categorical_accuracy: 0.2040 - val_loss: 0.2400 - val_categorical_accuracy: 0.2044\n",
            "Epoch 30/100\n",
            "230/230 [==============================] - 1s 5ms/step - loss: 0.2285 - categorical_accuracy: 0.2072 - val_loss: 0.2399 - val_categorical_accuracy: 0.1994\n",
            "Epoch 31/100\n",
            "230/230 [==============================] - 1s 5ms/step - loss: 0.2280 - categorical_accuracy: 0.2068 - val_loss: 0.2405 - val_categorical_accuracy: 0.1948\n",
            "Epoch 32/100\n",
            "230/230 [==============================] - 1s 5ms/step - loss: 0.2277 - categorical_accuracy: 0.2060 - val_loss: 0.2418 - val_categorical_accuracy: 0.2095\n",
            "Epoch 33/100\n",
            "230/230 [==============================] - 1s 5ms/step - loss: 0.2275 - categorical_accuracy: 0.2067 - val_loss: 0.2416 - val_categorical_accuracy: 0.2030\n",
            "Epoch 34/100\n",
            "230/230 [==============================] - 1s 5ms/step - loss: 0.2272 - categorical_accuracy: 0.2066 - val_loss: 0.2416 - val_categorical_accuracy: 0.2032\n",
            "Epoch 35/100\n",
            "230/230 [==============================] - 1s 5ms/step - loss: 0.2269 - categorical_accuracy: 0.2085 - val_loss: 0.2414 - val_categorical_accuracy: 0.2030\n",
            "Epoch 36/100\n",
            "230/230 [==============================] - 1s 5ms/step - loss: 0.2266 - categorical_accuracy: 0.2084 - val_loss: 0.2418 - val_categorical_accuracy: 0.2030\n",
            "Epoch 37/100\n",
            "230/230 [==============================] - 1s 5ms/step - loss: 0.2263 - categorical_accuracy: 0.2086 - val_loss: 0.2428 - val_categorical_accuracy: 0.1998\n",
            "Epoch 38/100\n",
            "230/230 [==============================] - 1s 5ms/step - loss: 0.2261 - categorical_accuracy: 0.2095 - val_loss: 0.2436 - val_categorical_accuracy: 0.2047\n",
            "Epoch 39/100\n",
            "230/230 [==============================] - 1s 5ms/step - loss: 0.2259 - categorical_accuracy: 0.2105 - val_loss: 0.2424 - val_categorical_accuracy: 0.1962\n",
            "Epoch 40/100\n",
            "230/230 [==============================] - 1s 5ms/step - loss: 0.2254 - categorical_accuracy: 0.2089 - val_loss: 0.2430 - val_categorical_accuracy: 0.2091\n",
            "Epoch 41/100\n",
            "230/230 [==============================] - 1s 5ms/step - loss: 0.2254 - categorical_accuracy: 0.2101 - val_loss: 0.2429 - val_categorical_accuracy: 0.2007\n",
            "Epoch 42/100\n",
            "230/230 [==============================] - 1s 5ms/step - loss: 0.2250 - categorical_accuracy: 0.2095 - val_loss: 0.2438 - val_categorical_accuracy: 0.2027\n",
            "Epoch 43/100\n",
            "230/230 [==============================] - 1s 5ms/step - loss: 0.2247 - categorical_accuracy: 0.2122 - val_loss: 0.2437 - val_categorical_accuracy: 0.2024\n",
            "Epoch 44/100\n",
            "230/230 [==============================] - 1s 5ms/step - loss: 0.2243 - categorical_accuracy: 0.2111 - val_loss: 0.2447 - val_categorical_accuracy: 0.1995\n",
            "Epoch 45/100\n",
            "230/230 [==============================] - 1s 5ms/step - loss: 0.2241 - categorical_accuracy: 0.2094 - val_loss: 0.2441 - val_categorical_accuracy: 0.2047\n",
            "Epoch 46/100\n",
            "230/230 [==============================] - 1s 5ms/step - loss: 0.2242 - categorical_accuracy: 0.2116 - val_loss: 0.2443 - val_categorical_accuracy: 0.2067\n",
            "Epoch 47/100\n",
            "230/230 [==============================] - 1s 5ms/step - loss: 0.2238 - categorical_accuracy: 0.2119 - val_loss: 0.2451 - val_categorical_accuracy: 0.2070\n",
            "Epoch 48/100\n",
            "230/230 [==============================] - 1s 5ms/step - loss: 0.2236 - categorical_accuracy: 0.2120 - val_loss: 0.2447 - val_categorical_accuracy: 0.1994\n",
            "Epoch 49/100\n",
            "230/230 [==============================] - 1s 5ms/step - loss: 0.2231 - categorical_accuracy: 0.2123 - val_loss: 0.2452 - val_categorical_accuracy: 0.2041\n",
            "Epoch 50/100\n",
            "230/230 [==============================] - 1s 5ms/step - loss: 0.2230 - categorical_accuracy: 0.2130 - val_loss: 0.2457 - val_categorical_accuracy: 0.2068\n",
            "Epoch 51/100\n",
            "230/230 [==============================] - 1s 5ms/step - loss: 0.2226 - categorical_accuracy: 0.2131 - val_loss: 0.2464 - val_categorical_accuracy: 0.2019\n",
            "Epoch 52/100\n",
            "230/230 [==============================] - 1s 5ms/step - loss: 0.2225 - categorical_accuracy: 0.2133 - val_loss: 0.2465 - val_categorical_accuracy: 0.2119\n",
            "Epoch 53/100\n",
            "230/230 [==============================] - 1s 5ms/step - loss: 0.2222 - categorical_accuracy: 0.2146 - val_loss: 0.2464 - val_categorical_accuracy: 0.2054\n",
            "Epoch 54/100\n",
            "230/230 [==============================] - 1s 5ms/step - loss: 0.2219 - categorical_accuracy: 0.2142 - val_loss: 0.2473 - val_categorical_accuracy: 0.2070\n",
            "Epoch 55/100\n",
            "230/230 [==============================] - 1s 5ms/step - loss: 0.2218 - categorical_accuracy: 0.2144 - val_loss: 0.2470 - val_categorical_accuracy: 0.2026\n",
            "Epoch 56/100\n",
            "230/230 [==============================] - 1s 5ms/step - loss: 0.2215 - categorical_accuracy: 0.2150 - val_loss: 0.2480 - val_categorical_accuracy: 0.1985\n",
            "Epoch 57/100\n",
            "230/230 [==============================] - 1s 5ms/step - loss: 0.2212 - categorical_accuracy: 0.2150 - val_loss: 0.2488 - val_categorical_accuracy: 0.2116\n",
            "Epoch 58/100\n",
            "230/230 [==============================] - 1s 5ms/step - loss: 0.2210 - categorical_accuracy: 0.2165 - val_loss: 0.2481 - val_categorical_accuracy: 0.2114\n",
            "Epoch 59/100\n",
            "230/230 [==============================] - 1s 5ms/step - loss: 0.2209 - categorical_accuracy: 0.2164 - val_loss: 0.2481 - val_categorical_accuracy: 0.2000\n",
            "Epoch 60/100\n",
            "230/230 [==============================] - 1s 5ms/step - loss: 0.2206 - categorical_accuracy: 0.2141 - val_loss: 0.2484 - val_categorical_accuracy: 0.2071\n",
            "Epoch 61/100\n",
            "230/230 [==============================] - 1s 5ms/step - loss: 0.2204 - categorical_accuracy: 0.2162 - val_loss: 0.2494 - val_categorical_accuracy: 0.2011\n",
            "Epoch 62/100\n",
            "230/230 [==============================] - 1s 5ms/step - loss: 0.2202 - categorical_accuracy: 0.2167 - val_loss: 0.2495 - val_categorical_accuracy: 0.2014\n",
            "Epoch 63/100\n",
            "230/230 [==============================] - 1s 5ms/step - loss: 0.2200 - categorical_accuracy: 0.2163 - val_loss: 0.2505 - val_categorical_accuracy: 0.1971\n",
            "Epoch 64/100\n",
            "230/230 [==============================] - 1s 5ms/step - loss: 0.2196 - categorical_accuracy: 0.2167 - val_loss: 0.2497 - val_categorical_accuracy: 0.2022\n",
            "Epoch 65/100\n",
            "230/230 [==============================] - 1s 5ms/step - loss: 0.2195 - categorical_accuracy: 0.2167 - val_loss: 0.2498 - val_categorical_accuracy: 0.2076\n",
            "Epoch 66/100\n",
            "230/230 [==============================] - 1s 5ms/step - loss: 0.2191 - categorical_accuracy: 0.2195 - val_loss: 0.2504 - val_categorical_accuracy: 0.2058\n",
            "Epoch 67/100\n",
            "230/230 [==============================] - 1s 5ms/step - loss: 0.2189 - categorical_accuracy: 0.2185 - val_loss: 0.2513 - val_categorical_accuracy: 0.1930\n",
            "Epoch 68/100\n",
            "230/230 [==============================] - 1s 5ms/step - loss: 0.2188 - categorical_accuracy: 0.2174 - val_loss: 0.2523 - val_categorical_accuracy: 0.1962\n",
            "Epoch 69/100\n",
            "230/230 [==============================] - 1s 5ms/step - loss: 0.2186 - categorical_accuracy: 0.2194 - val_loss: 0.2512 - val_categorical_accuracy: 0.1975\n",
            "Epoch 70/100\n",
            "230/230 [==============================] - 1s 5ms/step - loss: 0.2181 - categorical_accuracy: 0.2194 - val_loss: 0.2520 - val_categorical_accuracy: 0.2059\n",
            "Epoch 71/100\n",
            "230/230 [==============================] - 1s 5ms/step - loss: 0.2180 - categorical_accuracy: 0.2186 - val_loss: 0.2519 - val_categorical_accuracy: 0.2054\n",
            "Epoch 72/100\n",
            "230/230 [==============================] - 1s 5ms/step - loss: 0.2178 - categorical_accuracy: 0.2202 - val_loss: 0.2521 - val_categorical_accuracy: 0.1961\n",
            "Epoch 73/100\n",
            "230/230 [==============================] - 1s 5ms/step - loss: 0.2177 - categorical_accuracy: 0.2204 - val_loss: 0.2530 - val_categorical_accuracy: 0.2028\n",
            "Epoch 74/100\n",
            "230/230 [==============================] - 1s 5ms/step - loss: 0.2175 - categorical_accuracy: 0.2202 - val_loss: 0.2528 - val_categorical_accuracy: 0.1930\n",
            "Epoch 75/100\n",
            "230/230 [==============================] - 1s 5ms/step - loss: 0.2172 - categorical_accuracy: 0.2216 - val_loss: 0.2536 - val_categorical_accuracy: 0.1962\n",
            "Epoch 76/100\n",
            "230/230 [==============================] - 1s 5ms/step - loss: 0.2169 - categorical_accuracy: 0.2203 - val_loss: 0.2538 - val_categorical_accuracy: 0.1993\n",
            "Epoch 77/100\n",
            "230/230 [==============================] - 1s 5ms/step - loss: 0.2170 - categorical_accuracy: 0.2209 - val_loss: 0.2536 - val_categorical_accuracy: 0.1959\n",
            "Epoch 78/100\n",
            "230/230 [==============================] - 1s 5ms/step - loss: 0.2166 - categorical_accuracy: 0.2190 - val_loss: 0.2542 - val_categorical_accuracy: 0.2001\n",
            "Epoch 79/100\n",
            "230/230 [==============================] - 1s 5ms/step - loss: 0.2164 - categorical_accuracy: 0.2218 - val_loss: 0.2547 - val_categorical_accuracy: 0.1967\n",
            "Epoch 80/100\n",
            "230/230 [==============================] - 1s 5ms/step - loss: 0.2162 - categorical_accuracy: 0.2209 - val_loss: 0.2547 - val_categorical_accuracy: 0.2055\n",
            "Epoch 81/100\n",
            "230/230 [==============================] - 1s 5ms/step - loss: 0.2161 - categorical_accuracy: 0.2214 - val_loss: 0.2544 - val_categorical_accuracy: 0.1938\n",
            "Epoch 82/100\n",
            "230/230 [==============================] - 1s 5ms/step - loss: 0.2158 - categorical_accuracy: 0.2218 - val_loss: 0.2555 - val_categorical_accuracy: 0.1992\n",
            "Epoch 83/100\n",
            "230/230 [==============================] - 1s 5ms/step - loss: 0.2158 - categorical_accuracy: 0.2236 - val_loss: 0.2560 - val_categorical_accuracy: 0.1985\n",
            "Epoch 84/100\n",
            "230/230 [==============================] - 1s 5ms/step - loss: 0.2156 - categorical_accuracy: 0.2233 - val_loss: 0.2557 - val_categorical_accuracy: 0.1970\n",
            "Epoch 85/100\n",
            "230/230 [==============================] - 1s 5ms/step - loss: 0.2152 - categorical_accuracy: 0.2226 - val_loss: 0.2554 - val_categorical_accuracy: 0.1974\n",
            "Epoch 86/100\n",
            "230/230 [==============================] - 1s 5ms/step - loss: 0.2150 - categorical_accuracy: 0.2218 - val_loss: 0.2559 - val_categorical_accuracy: 0.2013\n",
            "Epoch 87/100\n",
            "230/230 [==============================] - 1s 5ms/step - loss: 0.2150 - categorical_accuracy: 0.2234 - val_loss: 0.2558 - val_categorical_accuracy: 0.2021\n",
            "Epoch 88/100\n",
            "230/230 [==============================] - 1s 5ms/step - loss: 0.2148 - categorical_accuracy: 0.2239 - val_loss: 0.2569 - val_categorical_accuracy: 0.2019\n",
            "Epoch 89/100\n",
            "230/230 [==============================] - 1s 5ms/step - loss: 0.2144 - categorical_accuracy: 0.2243 - val_loss: 0.2585 - val_categorical_accuracy: 0.1869\n",
            "Epoch 90/100\n",
            "230/230 [==============================] - 1s 5ms/step - loss: 0.2144 - categorical_accuracy: 0.2245 - val_loss: 0.2572 - val_categorical_accuracy: 0.1951\n",
            "Epoch 91/100\n",
            "230/230 [==============================] - 1s 5ms/step - loss: 0.2143 - categorical_accuracy: 0.2229 - val_loss: 0.2572 - val_categorical_accuracy: 0.2004\n",
            "Epoch 92/100\n",
            "230/230 [==============================] - 1s 5ms/step - loss: 0.2140 - categorical_accuracy: 0.2252 - val_loss: 0.2586 - val_categorical_accuracy: 0.2054\n",
            "Epoch 93/100\n",
            "230/230 [==============================] - 1s 5ms/step - loss: 0.2139 - categorical_accuracy: 0.2250 - val_loss: 0.2576 - val_categorical_accuracy: 0.2050\n",
            "Epoch 94/100\n",
            "230/230 [==============================] - 1s 5ms/step - loss: 0.2136 - categorical_accuracy: 0.2255 - val_loss: 0.2586 - val_categorical_accuracy: 0.1934\n",
            "Epoch 95/100\n",
            "230/230 [==============================] - 1s 5ms/step - loss: 0.2136 - categorical_accuracy: 0.2244 - val_loss: 0.2611 - val_categorical_accuracy: 0.1846\n",
            "Epoch 96/100\n",
            "230/230 [==============================] - 1s 5ms/step - loss: 0.2134 - categorical_accuracy: 0.2252 - val_loss: 0.2587 - val_categorical_accuracy: 0.2113\n",
            "Epoch 97/100\n",
            "230/230 [==============================] - 1s 5ms/step - loss: 0.2131 - categorical_accuracy: 0.2267 - val_loss: 0.2600 - val_categorical_accuracy: 0.2064\n",
            "Epoch 98/100\n",
            "230/230 [==============================] - 1s 5ms/step - loss: 0.2130 - categorical_accuracy: 0.2261 - val_loss: 0.2592 - val_categorical_accuracy: 0.1998\n",
            "Epoch 99/100\n",
            "230/230 [==============================] - 1s 5ms/step - loss: 0.2128 - categorical_accuracy: 0.2263 - val_loss: 0.2594 - val_categorical_accuracy: 0.1996\n",
            "Epoch 100/100\n",
            "230/230 [==============================] - 1s 5ms/step - loss: 0.2127 - categorical_accuracy: 0.2271 - val_loss: 0.2596 - val_categorical_accuracy: 0.2011\n",
            "(29334, 200)\n",
            "Epoch 1/100\n",
            "230/230 [==============================] - 1s 6ms/step - loss: 0.2370 - categorical_accuracy: 0.2085 - val_loss: 0.2131 - val_categorical_accuracy: 0.2150\n",
            "Epoch 2/100\n",
            "230/230 [==============================] - 1s 5ms/step - loss: 0.2335 - categorical_accuracy: 0.2084 - val_loss: 0.2150 - val_categorical_accuracy: 0.2320\n",
            "Epoch 3/100\n",
            "230/230 [==============================] - 1s 5ms/step - loss: 0.2319 - categorical_accuracy: 0.2080 - val_loss: 0.2156 - val_categorical_accuracy: 0.2201\n",
            "Epoch 4/100\n",
            "230/230 [==============================] - 1s 5ms/step - loss: 0.2307 - categorical_accuracy: 0.2079 - val_loss: 0.2161 - val_categorical_accuracy: 0.2085\n",
            "Epoch 5/100\n",
            "230/230 [==============================] - 1s 5ms/step - loss: 0.2297 - categorical_accuracy: 0.2088 - val_loss: 0.2176 - val_categorical_accuracy: 0.2183\n",
            "Epoch 6/100\n",
            "230/230 [==============================] - 1s 5ms/step - loss: 0.2292 - categorical_accuracy: 0.2103 - val_loss: 0.2190 - val_categorical_accuracy: 0.2177\n",
            "Epoch 7/100\n",
            "230/230 [==============================] - 1s 5ms/step - loss: 0.2283 - categorical_accuracy: 0.2111 - val_loss: 0.2190 - val_categorical_accuracy: 0.2179\n",
            "Epoch 8/100\n",
            "230/230 [==============================] - 1s 5ms/step - loss: 0.2277 - categorical_accuracy: 0.2107 - val_loss: 0.2197 - val_categorical_accuracy: 0.2134\n",
            "Epoch 9/100\n",
            "230/230 [==============================] - 1s 5ms/step - loss: 0.2272 - categorical_accuracy: 0.2112 - val_loss: 0.2199 - val_categorical_accuracy: 0.2106\n",
            "Epoch 10/100\n",
            "230/230 [==============================] - 1s 5ms/step - loss: 0.2266 - categorical_accuracy: 0.2113 - val_loss: 0.2213 - val_categorical_accuracy: 0.2134\n",
            "Epoch 11/100\n",
            "230/230 [==============================] - 1s 5ms/step - loss: 0.2262 - categorical_accuracy: 0.2114 - val_loss: 0.2212 - val_categorical_accuracy: 0.2112\n",
            "Epoch 12/100\n",
            "230/230 [==============================] - 1s 5ms/step - loss: 0.2257 - categorical_accuracy: 0.2132 - val_loss: 0.2222 - val_categorical_accuracy: 0.2174\n",
            "Epoch 13/100\n",
            "230/230 [==============================] - 1s 5ms/step - loss: 0.2252 - categorical_accuracy: 0.2130 - val_loss: 0.2225 - val_categorical_accuracy: 0.2129\n",
            "Epoch 14/100\n",
            "230/230 [==============================] - 1s 5ms/step - loss: 0.2249 - categorical_accuracy: 0.2129 - val_loss: 0.2233 - val_categorical_accuracy: 0.2033\n",
            "Epoch 15/100\n",
            "230/230 [==============================] - 1s 5ms/step - loss: 0.2246 - categorical_accuracy: 0.2126 - val_loss: 0.2234 - val_categorical_accuracy: 0.2056\n",
            "Epoch 16/100\n",
            "230/230 [==============================] - 1s 5ms/step - loss: 0.2240 - categorical_accuracy: 0.2147 - val_loss: 0.2242 - val_categorical_accuracy: 0.2061\n",
            "Epoch 17/100\n",
            "230/230 [==============================] - 1s 5ms/step - loss: 0.2238 - categorical_accuracy: 0.2144 - val_loss: 0.2253 - val_categorical_accuracy: 0.1986\n",
            "Epoch 18/100\n",
            "230/230 [==============================] - 1s 5ms/step - loss: 0.2231 - categorical_accuracy: 0.2145 - val_loss: 0.2250 - val_categorical_accuracy: 0.2171\n",
            "Epoch 19/100\n",
            "230/230 [==============================] - 1s 5ms/step - loss: 0.2231 - categorical_accuracy: 0.2149 - val_loss: 0.2252 - val_categorical_accuracy: 0.2094\n",
            "Epoch 20/100\n",
            "230/230 [==============================] - 1s 5ms/step - loss: 0.2226 - categorical_accuracy: 0.2161 - val_loss: 0.2268 - val_categorical_accuracy: 0.2118\n",
            "Epoch 21/100\n",
            "230/230 [==============================] - 1s 5ms/step - loss: 0.2223 - categorical_accuracy: 0.2156 - val_loss: 0.2259 - val_categorical_accuracy: 0.2072\n",
            "Epoch 22/100\n",
            "230/230 [==============================] - 1s 5ms/step - loss: 0.2219 - categorical_accuracy: 0.2174 - val_loss: 0.2278 - val_categorical_accuracy: 0.1965\n",
            "Epoch 23/100\n",
            "230/230 [==============================] - 1s 5ms/step - loss: 0.2217 - categorical_accuracy: 0.2174 - val_loss: 0.2273 - val_categorical_accuracy: 0.2160\n",
            "Epoch 24/100\n",
            "230/230 [==============================] - 1s 5ms/step - loss: 0.2214 - categorical_accuracy: 0.2186 - val_loss: 0.2276 - val_categorical_accuracy: 0.2123\n",
            "Epoch 25/100\n",
            "230/230 [==============================] - 1s 5ms/step - loss: 0.2209 - categorical_accuracy: 0.2188 - val_loss: 0.2283 - val_categorical_accuracy: 0.2074\n",
            "Epoch 26/100\n",
            "230/230 [==============================] - 1s 5ms/step - loss: 0.2207 - categorical_accuracy: 0.2173 - val_loss: 0.2285 - val_categorical_accuracy: 0.2119\n",
            "Epoch 27/100\n",
            "230/230 [==============================] - 1s 5ms/step - loss: 0.2204 - categorical_accuracy: 0.2197 - val_loss: 0.2294 - val_categorical_accuracy: 0.2112\n",
            "Epoch 28/100\n",
            "230/230 [==============================] - 1s 5ms/step - loss: 0.2203 - categorical_accuracy: 0.2193 - val_loss: 0.2300 - val_categorical_accuracy: 0.2077\n",
            "Epoch 29/100\n",
            "230/230 [==============================] - 1s 5ms/step - loss: 0.2197 - categorical_accuracy: 0.2181 - val_loss: 0.2302 - val_categorical_accuracy: 0.2134\n",
            "Epoch 30/100\n",
            "230/230 [==============================] - 1s 5ms/step - loss: 0.2197 - categorical_accuracy: 0.2188 - val_loss: 0.2304 - val_categorical_accuracy: 0.2158\n",
            "Epoch 31/100\n",
            "230/230 [==============================] - 1s 5ms/step - loss: 0.2193 - categorical_accuracy: 0.2197 - val_loss: 0.2306 - val_categorical_accuracy: 0.2101\n",
            "Epoch 32/100\n",
            "230/230 [==============================] - 1s 5ms/step - loss: 0.2188 - categorical_accuracy: 0.2191 - val_loss: 0.2311 - val_categorical_accuracy: 0.2118\n",
            "Epoch 33/100\n",
            "230/230 [==============================] - 1s 5ms/step - loss: 0.2186 - categorical_accuracy: 0.2213 - val_loss: 0.2314 - val_categorical_accuracy: 0.2033\n",
            "Epoch 34/100\n",
            "230/230 [==============================] - 1s 5ms/step - loss: 0.2185 - categorical_accuracy: 0.2215 - val_loss: 0.2322 - val_categorical_accuracy: 0.2074\n",
            "Epoch 35/100\n",
            "230/230 [==============================] - 1s 5ms/step - loss: 0.2181 - categorical_accuracy: 0.2208 - val_loss: 0.2321 - val_categorical_accuracy: 0.2132\n",
            "Epoch 36/100\n",
            "230/230 [==============================] - 1s 5ms/step - loss: 0.2178 - categorical_accuracy: 0.2229 - val_loss: 0.2326 - val_categorical_accuracy: 0.2131\n",
            "Epoch 37/100\n",
            "230/230 [==============================] - 1s 5ms/step - loss: 0.2176 - categorical_accuracy: 0.2235 - val_loss: 0.2334 - val_categorical_accuracy: 0.2119\n",
            "Epoch 38/100\n",
            "230/230 [==============================] - 1s 5ms/step - loss: 0.2173 - categorical_accuracy: 0.2229 - val_loss: 0.2341 - val_categorical_accuracy: 0.2012\n",
            "Epoch 39/100\n",
            "230/230 [==============================] - 1s 5ms/step - loss: 0.2169 - categorical_accuracy: 0.2220 - val_loss: 0.2343 - val_categorical_accuracy: 0.2026\n",
            "Epoch 40/100\n",
            "230/230 [==============================] - 1s 5ms/step - loss: 0.2171 - categorical_accuracy: 0.2227 - val_loss: 0.2346 - val_categorical_accuracy: 0.2176\n",
            "Epoch 41/100\n",
            "230/230 [==============================] - 1s 5ms/step - loss: 0.2167 - categorical_accuracy: 0.2225 - val_loss: 0.2344 - val_categorical_accuracy: 0.2215\n",
            "Epoch 42/100\n",
            "230/230 [==============================] - 1s 5ms/step - loss: 0.2162 - categorical_accuracy: 0.2241 - val_loss: 0.2350 - val_categorical_accuracy: 0.2095\n",
            "Epoch 43/100\n",
            "230/230 [==============================] - 1s 5ms/step - loss: 0.2162 - categorical_accuracy: 0.2228 - val_loss: 0.2359 - val_categorical_accuracy: 0.2093\n",
            "Epoch 44/100\n",
            "230/230 [==============================] - 1s 5ms/step - loss: 0.2157 - categorical_accuracy: 0.2244 - val_loss: 0.2361 - val_categorical_accuracy: 0.2042\n",
            "Epoch 45/100\n",
            "230/230 [==============================] - 1s 5ms/step - loss: 0.2156 - categorical_accuracy: 0.2245 - val_loss: 0.2358 - val_categorical_accuracy: 0.2075\n",
            "Epoch 46/100\n",
            "230/230 [==============================] - 1s 5ms/step - loss: 0.2153 - categorical_accuracy: 0.2254 - val_loss: 0.2368 - val_categorical_accuracy: 0.2123\n",
            "Epoch 47/100\n",
            "230/230 [==============================] - 1s 5ms/step - loss: 0.2152 - categorical_accuracy: 0.2234 - val_loss: 0.2365 - val_categorical_accuracy: 0.2061\n",
            "Epoch 48/100\n",
            "230/230 [==============================] - 1s 5ms/step - loss: 0.2149 - categorical_accuracy: 0.2248 - val_loss: 0.2378 - val_categorical_accuracy: 0.2185\n",
            "Epoch 49/100\n",
            "230/230 [==============================] - 1s 5ms/step - loss: 0.2151 - categorical_accuracy: 0.2251 - val_loss: 0.2374 - val_categorical_accuracy: 0.2155\n",
            "Epoch 50/100\n",
            "230/230 [==============================] - 1s 5ms/step - loss: 0.2144 - categorical_accuracy: 0.2264 - val_loss: 0.2379 - val_categorical_accuracy: 0.2131\n",
            "Epoch 51/100\n",
            "230/230 [==============================] - 1s 5ms/step - loss: 0.2144 - categorical_accuracy: 0.2249 - val_loss: 0.2385 - val_categorical_accuracy: 0.2056\n",
            "Epoch 52/100\n",
            "230/230 [==============================] - 1s 5ms/step - loss: 0.2142 - categorical_accuracy: 0.2259 - val_loss: 0.2392 - val_categorical_accuracy: 0.2072\n",
            "Epoch 53/100\n",
            "230/230 [==============================] - 1s 5ms/step - loss: 0.2138 - categorical_accuracy: 0.2257 - val_loss: 0.2389 - val_categorical_accuracy: 0.2093\n",
            "Epoch 54/100\n",
            "230/230 [==============================] - 1s 5ms/step - loss: 0.2137 - categorical_accuracy: 0.2257 - val_loss: 0.2393 - val_categorical_accuracy: 0.2069\n",
            "Epoch 55/100\n",
            "230/230 [==============================] - 1s 5ms/step - loss: 0.2135 - categorical_accuracy: 0.2260 - val_loss: 0.2396 - val_categorical_accuracy: 0.2075\n",
            "Epoch 56/100\n",
            "230/230 [==============================] - 1s 5ms/step - loss: 0.2132 - categorical_accuracy: 0.2284 - val_loss: 0.2402 - val_categorical_accuracy: 0.2080\n",
            "Epoch 57/100\n",
            "230/230 [==============================] - 1s 5ms/step - loss: 0.2131 - categorical_accuracy: 0.2267 - val_loss: 0.2400 - val_categorical_accuracy: 0.2097\n",
            "Epoch 58/100\n",
            "230/230 [==============================] - 1s 5ms/step - loss: 0.2131 - categorical_accuracy: 0.2264 - val_loss: 0.2404 - val_categorical_accuracy: 0.2110\n",
            "Epoch 59/100\n",
            "230/230 [==============================] - 1s 5ms/step - loss: 0.2127 - categorical_accuracy: 0.2256 - val_loss: 0.2420 - val_categorical_accuracy: 0.2079\n",
            "Epoch 60/100\n",
            "230/230 [==============================] - 1s 5ms/step - loss: 0.2125 - categorical_accuracy: 0.2273 - val_loss: 0.2416 - val_categorical_accuracy: 0.2080\n",
            "Epoch 61/100\n",
            "230/230 [==============================] - 1s 5ms/step - loss: 0.2124 - categorical_accuracy: 0.2282 - val_loss: 0.2424 - val_categorical_accuracy: 0.2104\n",
            "Epoch 62/100\n",
            "230/230 [==============================] - 1s 5ms/step - loss: 0.2122 - categorical_accuracy: 0.2264 - val_loss: 0.2435 - val_categorical_accuracy: 0.2185\n",
            "Epoch 63/100\n",
            "230/230 [==============================] - 1s 5ms/step - loss: 0.2121 - categorical_accuracy: 0.2274 - val_loss: 0.2420 - val_categorical_accuracy: 0.2136\n",
            "Epoch 64/100\n",
            "230/230 [==============================] - 1s 5ms/step - loss: 0.2118 - categorical_accuracy: 0.2288 - val_loss: 0.2437 - val_categorical_accuracy: 0.2046\n",
            "Epoch 65/100\n",
            "230/230 [==============================] - 1s 5ms/step - loss: 0.2116 - categorical_accuracy: 0.2296 - val_loss: 0.2435 - val_categorical_accuracy: 0.2064\n",
            "Epoch 66/100\n",
            "230/230 [==============================] - 1s 5ms/step - loss: 0.2114 - categorical_accuracy: 0.2279 - val_loss: 0.2436 - val_categorical_accuracy: 0.2065\n",
            "Epoch 67/100\n",
            "230/230 [==============================] - 1s 5ms/step - loss: 0.2114 - categorical_accuracy: 0.2276 - val_loss: 0.2442 - val_categorical_accuracy: 0.2056\n",
            "Epoch 68/100\n",
            "230/230 [==============================] - 1s 5ms/step - loss: 0.2112 - categorical_accuracy: 0.2286 - val_loss: 0.2453 - val_categorical_accuracy: 0.1971\n",
            "Epoch 69/100\n",
            "230/230 [==============================] - 1s 5ms/step - loss: 0.2110 - categorical_accuracy: 0.2284 - val_loss: 0.2442 - val_categorical_accuracy: 0.2100\n",
            "Epoch 70/100\n",
            "230/230 [==============================] - 1s 5ms/step - loss: 0.2109 - categorical_accuracy: 0.2289 - val_loss: 0.2440 - val_categorical_accuracy: 0.2121\n",
            "Epoch 71/100\n",
            "230/230 [==============================] - 1s 5ms/step - loss: 0.2105 - categorical_accuracy: 0.2295 - val_loss: 0.2451 - val_categorical_accuracy: 0.2146\n",
            "Epoch 72/100\n",
            "230/230 [==============================] - 1s 5ms/step - loss: 0.2104 - categorical_accuracy: 0.2286 - val_loss: 0.2456 - val_categorical_accuracy: 0.2047\n",
            "Epoch 73/100\n",
            "230/230 [==============================] - 1s 5ms/step - loss: 0.2101 - categorical_accuracy: 0.2280 - val_loss: 0.2457 - val_categorical_accuracy: 0.2077\n",
            "Epoch 74/100\n",
            "230/230 [==============================] - 1s 5ms/step - loss: 0.2101 - categorical_accuracy: 0.2295 - val_loss: 0.2459 - val_categorical_accuracy: 0.2121\n",
            "Epoch 75/100\n",
            "230/230 [==============================] - 1s 5ms/step - loss: 0.2100 - categorical_accuracy: 0.2298 - val_loss: 0.2464 - val_categorical_accuracy: 0.2146\n",
            "Epoch 76/100\n",
            "230/230 [==============================] - 1s 5ms/step - loss: 0.2097 - categorical_accuracy: 0.2292 - val_loss: 0.2472 - val_categorical_accuracy: 0.1997\n",
            "Epoch 77/100\n",
            "230/230 [==============================] - 1s 5ms/step - loss: 0.2095 - categorical_accuracy: 0.2304 - val_loss: 0.2474 - val_categorical_accuracy: 0.2129\n",
            "Epoch 78/100\n",
            "230/230 [==============================] - 1s 5ms/step - loss: 0.2095 - categorical_accuracy: 0.2292 - val_loss: 0.2473 - val_categorical_accuracy: 0.2140\n",
            "Epoch 79/100\n",
            "230/230 [==============================] - 1s 5ms/step - loss: 0.2092 - categorical_accuracy: 0.2313 - val_loss: 0.2480 - val_categorical_accuracy: 0.2078\n",
            "Epoch 80/100\n",
            "230/230 [==============================] - 1s 5ms/step - loss: 0.2092 - categorical_accuracy: 0.2300 - val_loss: 0.2482 - val_categorical_accuracy: 0.2114\n",
            "Epoch 81/100\n",
            "230/230 [==============================] - 1s 5ms/step - loss: 0.2089 - categorical_accuracy: 0.2308 - val_loss: 0.2476 - val_categorical_accuracy: 0.2153\n",
            "Epoch 82/100\n",
            "230/230 [==============================] - 1s 5ms/step - loss: 0.2086 - categorical_accuracy: 0.2314 - val_loss: 0.2487 - val_categorical_accuracy: 0.2147\n",
            "Epoch 83/100\n",
            "230/230 [==============================] - 1s 5ms/step - loss: 0.2086 - categorical_accuracy: 0.2314 - val_loss: 0.2503 - val_categorical_accuracy: 0.2006\n",
            "Epoch 84/100\n",
            "230/230 [==============================] - 1s 5ms/step - loss: 0.2083 - categorical_accuracy: 0.2302 - val_loss: 0.2494 - val_categorical_accuracy: 0.2159\n",
            "Epoch 85/100\n",
            "230/230 [==============================] - 1s 5ms/step - loss: 0.2083 - categorical_accuracy: 0.2315 - val_loss: 0.2502 - val_categorical_accuracy: 0.2014\n",
            "Epoch 86/100\n",
            "230/230 [==============================] - 1s 5ms/step - loss: 0.2082 - categorical_accuracy: 0.2318 - val_loss: 0.2506 - val_categorical_accuracy: 0.2007\n",
            "Epoch 87/100\n",
            "230/230 [==============================] - 1s 5ms/step - loss: 0.2079 - categorical_accuracy: 0.2325 - val_loss: 0.2511 - val_categorical_accuracy: 0.2101\n",
            "Epoch 88/100\n",
            "230/230 [==============================] - 1s 5ms/step - loss: 0.2079 - categorical_accuracy: 0.2310 - val_loss: 0.2514 - val_categorical_accuracy: 0.2043\n",
            "Epoch 89/100\n",
            "230/230 [==============================] - 1s 5ms/step - loss: 0.2076 - categorical_accuracy: 0.2339 - val_loss: 0.2503 - val_categorical_accuracy: 0.2041\n",
            "Epoch 90/100\n",
            "230/230 [==============================] - 1s 5ms/step - loss: 0.2077 - categorical_accuracy: 0.2321 - val_loss: 0.2508 - val_categorical_accuracy: 0.2146\n",
            "Epoch 91/100\n",
            "230/230 [==============================] - 1s 5ms/step - loss: 0.2072 - categorical_accuracy: 0.2345 - val_loss: 0.2530 - val_categorical_accuracy: 0.1943\n",
            "Epoch 92/100\n",
            "230/230 [==============================] - 1s 5ms/step - loss: 0.2073 - categorical_accuracy: 0.2349 - val_loss: 0.2527 - val_categorical_accuracy: 0.2063\n",
            "Epoch 93/100\n",
            "230/230 [==============================] - 1s 5ms/step - loss: 0.2070 - categorical_accuracy: 0.2333 - val_loss: 0.2521 - val_categorical_accuracy: 0.2153\n",
            "Epoch 94/100\n",
            "230/230 [==============================] - 1s 5ms/step - loss: 0.2067 - categorical_accuracy: 0.2336 - val_loss: 0.2520 - val_categorical_accuracy: 0.2112\n",
            "Epoch 95/100\n",
            "230/230 [==============================] - 1s 5ms/step - loss: 0.2068 - categorical_accuracy: 0.2328 - val_loss: 0.2523 - val_categorical_accuracy: 0.2092\n",
            "Epoch 96/100\n",
            "230/230 [==============================] - 1s 5ms/step - loss: 0.2067 - categorical_accuracy: 0.2347 - val_loss: 0.2541 - val_categorical_accuracy: 0.2060\n",
            "Epoch 97/100\n",
            "230/230 [==============================] - 1s 5ms/step - loss: 0.2065 - categorical_accuracy: 0.2329 - val_loss: 0.2536 - val_categorical_accuracy: 0.2138\n",
            "Epoch 98/100\n",
            "230/230 [==============================] - 1s 5ms/step - loss: 0.2063 - categorical_accuracy: 0.2328 - val_loss: 0.2537 - val_categorical_accuracy: 0.2016\n",
            "Epoch 99/100\n",
            "230/230 [==============================] - 1s 5ms/step - loss: 0.2061 - categorical_accuracy: 0.2358 - val_loss: 0.2542 - val_categorical_accuracy: 0.2081\n",
            "Epoch 100/100\n",
            "230/230 [==============================] - 1s 5ms/step - loss: 0.2060 - categorical_accuracy: 0.2337 - val_loss: 0.2544 - val_categorical_accuracy: 0.2048\n"
          ]
        }
      ]
    },
    {
      "cell_type": "code",
      "source": [
        "# You need to pull out averages across epochs!\n",
        "val_acc_history = [np.mean([x[0][i] for x in all_val_acc]) for i in range(100)]\n",
        "len(val_acc_history)"
      ],
      "metadata": {
        "id": "NxEKyvNMYEj9",
        "colab": {
          "base_uri": "https://localhost:8080/",
          "height": 346
        },
        "outputId": "52b7bb9c-f01a-4a77-8cf2-fd215f047563"
      },
      "execution_count": null,
      "outputs": [
        {
          "output_type": "error",
          "ename": "IndexError",
          "evalue": "ignored",
          "traceback": [
            "\u001b[0;31m---------------------------------------------------------------------------\u001b[0m",
            "\u001b[0;31mIndexError\u001b[0m                                Traceback (most recent call last)",
            "\u001b[0;32m<ipython-input-74-78acab8c7419>\u001b[0m in \u001b[0;36m<module>\u001b[0;34m()\u001b[0m\n\u001b[1;32m      1\u001b[0m \u001b[0;31m# You need to pull out averages across epochs!\u001b[0m\u001b[0;34m\u001b[0m\u001b[0;34m\u001b[0m\u001b[0;34m\u001b[0m\u001b[0m\n\u001b[1;32m      2\u001b[0m \u001b[0mval_acc_history\u001b[0m \u001b[0;34m=\u001b[0m \u001b[0;34m[\u001b[0m\u001b[0mnp\u001b[0m\u001b[0;34m.\u001b[0m\u001b[0mmean\u001b[0m\u001b[0;34m(\u001b[0m\u001b[0;34m[\u001b[0m\u001b[0mx\u001b[0m\u001b[0;34m[\u001b[0m\u001b[0;36m0\u001b[0m\u001b[0;34m]\u001b[0m\u001b[0;34m[\u001b[0m\u001b[0mi\u001b[0m\u001b[0;34m]\u001b[0m \u001b[0;32mfor\u001b[0m \u001b[0mx\u001b[0m \u001b[0;32min\u001b[0m \u001b[0mall_val_acc\u001b[0m\u001b[0;34m]\u001b[0m\u001b[0;34m)\u001b[0m \u001b[0;32mfor\u001b[0m \u001b[0mi\u001b[0m \u001b[0;32min\u001b[0m \u001b[0mrange\u001b[0m\u001b[0;34m(\u001b[0m\u001b[0;36m100\u001b[0m\u001b[0;34m)\u001b[0m\u001b[0;34m]\u001b[0m\u001b[0;34m\u001b[0m\u001b[0;34m\u001b[0m\u001b[0m\n\u001b[0;32m----> 3\u001b[0;31m \u001b[0mtrain_acc_history\u001b[0m \u001b[0;34m=\u001b[0m \u001b[0;34m[\u001b[0m\u001b[0mnp\u001b[0m\u001b[0;34m.\u001b[0m\u001b[0mmean\u001b[0m\u001b[0;34m(\u001b[0m\u001b[0;34m[\u001b[0m\u001b[0mx\u001b[0m\u001b[0;34m[\u001b[0m\u001b[0;36m0\u001b[0m\u001b[0;34m]\u001b[0m\u001b[0;34m[\u001b[0m\u001b[0mi\u001b[0m\u001b[0;34m]\u001b[0m \u001b[0;32mfor\u001b[0m \u001b[0mx\u001b[0m \u001b[0;32min\u001b[0m \u001b[0mall_acc\u001b[0m\u001b[0;34m]\u001b[0m\u001b[0;34m)\u001b[0m \u001b[0;32mfor\u001b[0m \u001b[0mi\u001b[0m \u001b[0;32min\u001b[0m \u001b[0mrange\u001b[0m\u001b[0;34m(\u001b[0m\u001b[0;36m100\u001b[0m\u001b[0;34m)\u001b[0m\u001b[0;34m]\u001b[0m\u001b[0;34m\u001b[0m\u001b[0;34m\u001b[0m\u001b[0m\n\u001b[0m\u001b[1;32m      4\u001b[0m \u001b[0mlen\u001b[0m\u001b[0;34m(\u001b[0m\u001b[0mval_acc_history\u001b[0m\u001b[0;34m)\u001b[0m\u001b[0;34m\u001b[0m\u001b[0;34m\u001b[0m\u001b[0m\n",
            "\u001b[0;32m<ipython-input-74-78acab8c7419>\u001b[0m in \u001b[0;36m<listcomp>\u001b[0;34m(.0)\u001b[0m\n\u001b[1;32m      1\u001b[0m \u001b[0;31m# You need to pull out averages across epochs!\u001b[0m\u001b[0;34m\u001b[0m\u001b[0;34m\u001b[0m\u001b[0;34m\u001b[0m\u001b[0m\n\u001b[1;32m      2\u001b[0m \u001b[0mval_acc_history\u001b[0m \u001b[0;34m=\u001b[0m \u001b[0;34m[\u001b[0m\u001b[0mnp\u001b[0m\u001b[0;34m.\u001b[0m\u001b[0mmean\u001b[0m\u001b[0;34m(\u001b[0m\u001b[0;34m[\u001b[0m\u001b[0mx\u001b[0m\u001b[0;34m[\u001b[0m\u001b[0;36m0\u001b[0m\u001b[0;34m]\u001b[0m\u001b[0;34m[\u001b[0m\u001b[0mi\u001b[0m\u001b[0;34m]\u001b[0m \u001b[0;32mfor\u001b[0m \u001b[0mx\u001b[0m \u001b[0;32min\u001b[0m \u001b[0mall_val_acc\u001b[0m\u001b[0;34m]\u001b[0m\u001b[0;34m)\u001b[0m \u001b[0;32mfor\u001b[0m \u001b[0mi\u001b[0m \u001b[0;32min\u001b[0m \u001b[0mrange\u001b[0m\u001b[0;34m(\u001b[0m\u001b[0;36m100\u001b[0m\u001b[0;34m)\u001b[0m\u001b[0;34m]\u001b[0m\u001b[0;34m\u001b[0m\u001b[0;34m\u001b[0m\u001b[0m\n\u001b[0;32m----> 3\u001b[0;31m \u001b[0mtrain_acc_history\u001b[0m \u001b[0;34m=\u001b[0m \u001b[0;34m[\u001b[0m\u001b[0mnp\u001b[0m\u001b[0;34m.\u001b[0m\u001b[0mmean\u001b[0m\u001b[0;34m(\u001b[0m\u001b[0;34m[\u001b[0m\u001b[0mx\u001b[0m\u001b[0;34m[\u001b[0m\u001b[0;36m0\u001b[0m\u001b[0;34m]\u001b[0m\u001b[0;34m[\u001b[0m\u001b[0mi\u001b[0m\u001b[0;34m]\u001b[0m \u001b[0;32mfor\u001b[0m \u001b[0mx\u001b[0m \u001b[0;32min\u001b[0m \u001b[0mall_acc\u001b[0m\u001b[0;34m]\u001b[0m\u001b[0;34m)\u001b[0m \u001b[0;32mfor\u001b[0m \u001b[0mi\u001b[0m \u001b[0;32min\u001b[0m \u001b[0mrange\u001b[0m\u001b[0;34m(\u001b[0m\u001b[0;36m100\u001b[0m\u001b[0;34m)\u001b[0m\u001b[0;34m]\u001b[0m\u001b[0;34m\u001b[0m\u001b[0;34m\u001b[0m\u001b[0m\n\u001b[0m\u001b[1;32m      4\u001b[0m \u001b[0mlen\u001b[0m\u001b[0;34m(\u001b[0m\u001b[0mval_acc_history\u001b[0m\u001b[0;34m)\u001b[0m\u001b[0;34m\u001b[0m\u001b[0;34m\u001b[0m\u001b[0m\n",
            "\u001b[0;32m<ipython-input-74-78acab8c7419>\u001b[0m in \u001b[0;36m<listcomp>\u001b[0;34m(.0)\u001b[0m\n\u001b[1;32m      1\u001b[0m \u001b[0;31m# You need to pull out averages across epochs!\u001b[0m\u001b[0;34m\u001b[0m\u001b[0;34m\u001b[0m\u001b[0;34m\u001b[0m\u001b[0m\n\u001b[1;32m      2\u001b[0m \u001b[0mval_acc_history\u001b[0m \u001b[0;34m=\u001b[0m \u001b[0;34m[\u001b[0m\u001b[0mnp\u001b[0m\u001b[0;34m.\u001b[0m\u001b[0mmean\u001b[0m\u001b[0;34m(\u001b[0m\u001b[0;34m[\u001b[0m\u001b[0mx\u001b[0m\u001b[0;34m[\u001b[0m\u001b[0;36m0\u001b[0m\u001b[0;34m]\u001b[0m\u001b[0;34m[\u001b[0m\u001b[0mi\u001b[0m\u001b[0;34m]\u001b[0m \u001b[0;32mfor\u001b[0m \u001b[0mx\u001b[0m \u001b[0;32min\u001b[0m \u001b[0mall_val_acc\u001b[0m\u001b[0;34m]\u001b[0m\u001b[0;34m)\u001b[0m \u001b[0;32mfor\u001b[0m \u001b[0mi\u001b[0m \u001b[0;32min\u001b[0m \u001b[0mrange\u001b[0m\u001b[0;34m(\u001b[0m\u001b[0;36m100\u001b[0m\u001b[0;34m)\u001b[0m\u001b[0;34m]\u001b[0m\u001b[0;34m\u001b[0m\u001b[0;34m\u001b[0m\u001b[0m\n\u001b[0;32m----> 3\u001b[0;31m \u001b[0mtrain_acc_history\u001b[0m \u001b[0;34m=\u001b[0m \u001b[0;34m[\u001b[0m\u001b[0mnp\u001b[0m\u001b[0;34m.\u001b[0m\u001b[0mmean\u001b[0m\u001b[0;34m(\u001b[0m\u001b[0;34m[\u001b[0m\u001b[0mx\u001b[0m\u001b[0;34m[\u001b[0m\u001b[0;36m0\u001b[0m\u001b[0;34m]\u001b[0m\u001b[0;34m[\u001b[0m\u001b[0mi\u001b[0m\u001b[0;34m]\u001b[0m \u001b[0;32mfor\u001b[0m \u001b[0mx\u001b[0m \u001b[0;32min\u001b[0m \u001b[0mall_acc\u001b[0m\u001b[0;34m]\u001b[0m\u001b[0;34m)\u001b[0m \u001b[0;32mfor\u001b[0m \u001b[0mi\u001b[0m \u001b[0;32min\u001b[0m \u001b[0mrange\u001b[0m\u001b[0;34m(\u001b[0m\u001b[0;36m100\u001b[0m\u001b[0;34m)\u001b[0m\u001b[0;34m]\u001b[0m\u001b[0;34m\u001b[0m\u001b[0;34m\u001b[0m\u001b[0m\n\u001b[0m\u001b[1;32m      4\u001b[0m \u001b[0mlen\u001b[0m\u001b[0;34m(\u001b[0m\u001b[0mval_acc_history\u001b[0m\u001b[0;34m)\u001b[0m\u001b[0;34m\u001b[0m\u001b[0;34m\u001b[0m\u001b[0m\n",
            "\u001b[0;31mIndexError\u001b[0m: list index out of range"
          ]
        }
      ],
      "id": "NxEKyvNMYEj9"
    },
    {
      "cell_type": "code",
      "source": [
        "plt.plot(range(1, 100+1), val_acc_history, c='blue')\n",
        "#plt.plot(range(1, 100+1), history.history['val_loss'], c='blue')\n",
        "plt.ylabel('Accuracy')\n",
        "plt.xlabel('Epoch')\n",
        "plt.title('Validation Acc Over Training')\n",
        "plt.legend(['Validation Acc'])\n",
        "plt.show()"
      ],
      "metadata": {
        "id": "ahMDpGflYGBJ",
        "colab": {
          "base_uri": "https://localhost:8080/",
          "height": 295
        },
        "outputId": "da1c786d-a2ed-416d-8232-c31e5fd1485b"
      },
      "execution_count": null,
      "outputs": [
        {
          "output_type": "display_data",
          "data": {
            "text/plain": [
              "<Figure size 432x288 with 1 Axes>"
            ],
            "image/png": "[encoded data removed]"
          },
          "metadata": {
            "needs_background": "light"
          }
        }
      ],
      "id": "ahMDpGflYGBJ"
    },
    {
      "cell_type": "markdown",
      "source": [
        "# **BERT MODEL**"
      ],
      "metadata": {
        "id": "ksa6acubMoLP"
      },
      "id": "ksa6acubMoLP"
    },
    {
      "cell_type": "markdown",
      "source": [
        "## Tokenization / Padding\n",
        "Import the Bert/DistilBert model and the Tokenizer\\\n",
        "Process the sentence and passes along some information it extracted from it on to the next model. DistilBERT is a smaller version of BERT "
      ],
      "metadata": {
        "id": "MVOO17FQJ-Ia"
      },
      "id": "MVOO17FQJ-Ia"
    },
    {
      "cell_type": "code",
      "execution_count": null,
      "id": "3e084108",
      "metadata": {
        "colab": {
          "base_uri": "https://localhost:8080/"
        },
        "id": "3e084108",
        "outputId": "40cbd137-ae84-4061-dc26-c27f5e29d659"
      },
      "outputs": [
        {
          "output_type": "stream",
          "name": "stderr",
          "text": [
            "Some weights of the model checkpoint at bert-base-uncased were not used when initializing BertModel: ['cls.seq_relationship.bias', 'cls.predictions.transform.LayerNorm.bias', 'cls.predictions.bias', 'cls.predictions.decoder.weight', 'cls.seq_relationship.weight', 'cls.predictions.transform.dense.bias', 'cls.predictions.transform.dense.weight', 'cls.predictions.transform.LayerNorm.weight']\n",
            "- This IS expected if you are initializing BertModel from the checkpoint of a model trained on another task or with another architecture (e.g. initializing a BertForSequenceClassification model from a BertForPreTraining model).\n",
            "- This IS NOT expected if you are initializing BertModel from the checkpoint of a model that you expect to be exactly identical (initializing a BertForSequenceClassification model from a BertForSequenceClassification model).\n"
          ]
        }
      ],
      "source": [
        "# DistilBERT\n",
        "# BERT (Bidirectional Encoder Representations from Transformers)\n",
        "# model_class, tokenizer_class, pretrained_weights = (ppb.DistilBertForMultipleChoice, ppb.DistilBertTokenizer, 'distilbert-base-uncased')\n",
        "\n",
        "## BERT\n",
        "model_class, tokenizer_class, pretrained_weights = (ppb.BertModel, ppb.BertTokenizer, 'bert-base-uncased')\n",
        "\n",
        "# load pretrained model/tokenizer\n",
        "tokenizer = tokenizer_class.from_pretrained(pretrained_weights)\n",
        "model = model_class.from_pretrained(pretrained_weights)\n",
        "# model_gpu = model.to(device)"
      ]
    },
    {
      "cell_type": "markdown",
      "source": [
        "Defining the predictors for tokenizing and the labels"
      ],
      "metadata": {
        "id": "IAZig0cukjpr"
      },
      "id": "IAZig0cukjpr"
    },
    {
      "cell_type": "code",
      "source": [
        "# df = df[:1500]\n",
        "texts = df['text']\n",
        "labels = df.iloc[:, -28:]"
      ],
      "metadata": {
        "id": "2G97bOPTrilx"
      },
      "id": "2G97bOPTrilx",
      "execution_count": null,
      "outputs": []
    },
    {
      "cell_type": "markdown",
      "source": [
        "Applying the tokenizer to the text and add the padding elements to the end of the sentences."
      ],
      "metadata": {
        "id": "ylYz01PilotD"
      },
      "id": "ylYz01PilotD"
    },
    {
      "cell_type": "code",
      "execution_count": null,
      "id": "2403d08e",
      "metadata": {
        "id": "2403d08e"
      },
      "outputs": [],
      "source": [
        "tokenized = texts.apply((lambda x: tokenizer.encode(x, add_special_tokens=True)))"
      ]
    },
    {
      "cell_type": "code",
      "execution_count": null,
      "id": "e1af9121",
      "metadata": {
        "id": "e1af9121",
        "colab": {
          "base_uri": "https://localhost:8080/"
        },
        "outputId": "51068de7-4bc4-42bd-e5a5-f77f1cd86b94"
      },
      "outputs": [
        {
          "output_type": "stream",
          "name": "stdout",
          "text": [
            "total unmber of words: 23929\n",
            "max_len of a sentence: 34\n",
            "3998\n"
          ]
        }
      ],
      "source": [
        "max_len = 0\n",
        "total = 0\n",
        "words = []\n",
        "for i in tokenized.values:\n",
        "  for j in i:\n",
        "    if j not in words:words.append(j)\n",
        "  total += len(i)\n",
        "  if len(i) > max_len:\n",
        "      max_len = len(i)\n",
        "\n",
        "print(\"total unmber of words:\",total)\n",
        "print(\"max_len of a sentence:\",max_len)\n",
        "print(len(words))\n",
        "\n",
        "padded = np.array([i + [0]*(max_len-len(i)) for i in tokenized.values])\n",
        "attention_mask = np.where(padded != 0, 1, 0)"
      ]
    },
    {
      "cell_type": "markdown",
      "source": [
        "## Embedding"
      ],
      "metadata": {
        "id": "cnKoZWHCky7J"
      },
      "id": "cnKoZWHCky7J"
    },
    {
      "cell_type": "markdown",
      "source": [
        "The commented rows can be uncommented if able to run on CUDA supported GPUs"
      ],
      "metadata": {
        "id": "Ec7-r0Cql0xh"
      },
      "id": "Ec7-r0Cql0xh"
    },
    {
      "cell_type": "code",
      "execution_count": null,
      "id": "f595e200",
      "metadata": {
        "id": "f595e200"
      },
      "outputs": [],
      "source": [
        "input_ids = torch.tensor(padded)\n",
        "# input_ids = input_ids.to(device)\n",
        "attention_mask = torch.tensor(attention_mask)\n",
        "# attention_mask = attention_mask.to(device)\n",
        "\n",
        "with torch.no_grad():\n",
        "  last_hidden_states = model(input_ids, attention_mask=attention_mask)"
      ]
    },
    {
      "cell_type": "code",
      "execution_count": null,
      "id": "58e03a6a",
      "metadata": {
        "id": "58e03a6a"
      },
      "outputs": [],
      "source": [
        "features_reg = last_hidden_states[0][:,0,:].cpu().numpy()"
      ]
    },
    {
      "cell_type": "code",
      "execution_count": null,
      "id": "55dc3770",
      "metadata": {
        "id": "55dc3770"
      },
      "outputs": [],
      "source": [
        "labelList = []\n",
        "for label in labels.columns:\n",
        "    labelList.append(labels[label].values)"
      ]
    },
    {
      "cell_type": "code",
      "source": [
        "labels.to_numpy().shape"
      ],
      "metadata": {
        "colab": {
          "base_uri": "https://localhost:8080/"
        },
        "id": "gzZBAjbpvxVc",
        "outputId": "432a03c5-e36c-4cf4-f99d-e2dd509c30c5"
      },
      "id": "gzZBAjbpvxVc",
      "execution_count": null,
      "outputs": [
        {
          "output_type": "execute_result",
          "data": {
            "text/plain": [
              "(1500, 28)"
            ]
          },
          "metadata": {},
          "execution_count": 54
        }
      ]
    },
    {
      "cell_type": "markdown",
      "source": [
        "## Logistic Regression"
      ],
      "metadata": {
        "id": "u_rpS6P7k6OV"
      },
      "id": "u_rpS6P7k6OV"
    },
    {
      "cell_type": "markdown",
      "source": [
        "Split the data with a 70/30 training/testing ration."
      ],
      "metadata": {
        "id": "ybJO5Xk8mM01"
      },
      "id": "ybJO5Xk8mM01"
    },
    {
      "cell_type": "code",
      "source": [
        "logistic_accs = []\n",
        "for i in labels.columns:\n",
        "  labels_temp = labels[i].values\n",
        "  train_features, test_features, train_labels, test_labels = train_test_split(features_reg, labels_temp)\n",
        "  lr_clf = LogisticRegression()\n",
        "  lr_clf.fit(train_features, train_labels)\n",
        "  logistic_accs.append(float(lr_clf.score(test_features, test_labels)))\n",
        "  print(round(float(lr_clf.score(test_features, test_labels)),3),i)"
      ],
      "metadata": {
        "colab": {
          "base_uri": "https://localhost:8080/"
        },
        "id": "ZFHhB52tv6Nh",
        "outputId": "a5bf3848-a343-4d92-a006-93cdee3aefd0"
      },
      "id": "ZFHhB52tv6Nh",
      "execution_count": null,
      "outputs": [
        {
          "output_type": "stream",
          "name": "stdout",
          "text": [
            "0.843 admiration\n",
            "0.915 amusement\n",
            "0.909 anger\n",
            "0.819 annoyance\n",
            "0.76 approval\n",
            "0.912 caring\n",
            "0.901 confusion\n",
            "0.904 curiosity\n",
            "0.947 desire\n",
            "0.851 disappointment\n",
            "0.824 disapproval\n",
            "0.944 disgust\n",
            "0.949 embarrassment\n",
            "0.939 excitement\n",
            "0.965 fear\n",
            "0.936 gratitude\n",
            "0.995 grief\n",
            "0.893 joy\n",
            "0.949 love\n",
            "0.957 nervousness\n",
            "0.888 optimism\n",
            "0.973 pride\n",
            "0.829 realization\n",
            "0.981 relief\n",
            "0.976 remorse\n",
            "0.896 sadness\n",
            "0.923 surprise\n",
            "0.672 neutral\n"
          ]
        }
      ]
    },
    {
      "cell_type": "markdown",
      "source": [
        "## Calculate the mean of all accuracy outputs"
      ],
      "metadata": {
        "id": "f5pQkIUAk-fg"
      },
      "id": "f5pQkIUAk-fg"
    },
    {
      "cell_type": "code",
      "source": [
        "mean(logistic_accs)"
      ],
      "metadata": {
        "colab": {
          "base_uri": "https://localhost:8080/"
        },
        "id": "nSMPmAmsv8Qj",
        "outputId": "ca109da1-6333-4293-f645-615e39bc0781"
      },
      "id": "nSMPmAmsv8Qj",
      "execution_count": null,
      "outputs": [
        {
          "output_type": "execute_result",
          "data": {
            "text/plain": [
              "0.9018095238095238"
            ]
          },
          "metadata": {},
          "execution_count": 56
        }
      ]
    }
  ],
  "metadata": {
    "interpreter": {
      "hash": "f36f1d7d0d350040d5e01f26e7fcbf5c352aca6f221ce28c2451e9b1c3e022ce"
    },
    "kernelspec": {
      "display_name": "Python 3.10.2 ('tf865')",
      "language": "python",
      "name": "python3"
    },
    "language_info": {
      "codemirror_mode": {
        "name": "ipython",
        "version": 3
      },
      "file_extension": ".py",
      "mimetype": "text/x-python",
      "name": "python",
      "nbconvert_exporter": "python",
      "pygments_lexer": "ipython3",
      "version": "3.10.2"
    },
    "colab": {
      "name": "BA865_Project.ipynb",
      "provenance": [],
      "collapsed_sections": [
        "U4I2xr1nEqwg",
        "GjEZt3XkGTuo",
        "0oCrrWmMIuER"
      ],
      "machine_shape": "hm",
      "background_execution": "on",
      "include_colab_link": true
    },
    "accelerator": "GPU"
  },
  "nbformat": 4,
  "nbformat_minor": 5
}